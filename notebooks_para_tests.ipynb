{
 "cells": [
  {
   "metadata": {
    "ExecuteTime": {
     "end_time": "2025-01-17T17:03:06.224513Z",
     "start_time": "2025-01-17T17:03:05.987799Z"
    }
   },
   "cell_type": "code",
   "source": "import dependencias",
   "id": "737a5e357ff08ad4",
   "outputs": [
    {
     "name": "stdout",
     "output_type": "stream",
     "text": [
      "pygame 2.6.1 (SDL 2.28.4, Python 3.12.1)\n",
      "Hello from the pygame community. https://www.pygame.org/contribute.html\n"
     ]
    }
   ],
   "execution_count": 1
  },
  {
   "metadata": {
    "ExecuteTime": {
     "end_time": "2025-01-13T22:16:59.553566Z",
     "start_time": "2025-01-13T22:16:59.471062Z"
    }
   },
   "cell_type": "code",
   "source": [
    "agent = dependencias.Agentes.ChaserAgent()\n",
    "game = dependencias.Snake_game((15, 15), 5, agent)\n",
    "game.evaluar()"
   ],
   "id": "1a8bc2d3d4241f3a",
   "outputs": [
    {
     "name": "stderr",
     "output_type": "stream",
     "text": [
      "100%|██████████| 100/100 [00:00<00:00, 1305.73it/s]\n"
     ]
    },
    {
     "data": {
      "text/plain": [
       "{'puntuacion_media': np.float64(8.07),\n",
       " 'puntuacion_maxima': np.int64(25),\n",
       " 'puntuacion_minima': np.int64(3),\n",
       " 'movimientos_medios': np.float64(37.36),\n",
       " 'movimientos_maximos': np.int64(122),\n",
       " 'movimientos_minimos': np.int64(9),\n",
       " 'movimientos por puntuacion': np.float64(4.629491945477075)}"
      ]
     },
     "execution_count": 14,
     "metadata": {},
     "output_type": "execute_result"
    }
   ],
   "execution_count": 14
  },
  {
   "metadata": {
    "ExecuteTime": {
     "end_time": "2025-01-13T22:15:41.443829Z",
     "start_time": "2025-01-13T22:15:29.878857Z"
    }
   },
   "cell_type": "code",
   "source": [
    "agent = dependencias.Agentes.Avoid_inmediate_death()\n",
    "game = dependencias.Snake_game((15, 15), 5, agent)\n",
    "game.play_with_pygame()\n"
   ],
   "id": "5f73f3c0a821b60d",
   "outputs": [],
   "execution_count": 7
  },
  {
   "cell_type": "code",
   "id": "0eee44cc",
   "metadata": {
    "ExecuteTime": {
     "end_time": "2025-01-13T22:16:15.816085Z",
     "start_time": "2025-01-13T22:16:15.603537Z"
    }
   },
   "source": [
    "agent = dependencias.Agentes.Avoid_inmediate_death()\n",
    "game = dependencias.Snake_game((15, 15), 5, agent)\n",
    "game.evaluar()\n"
   ],
   "outputs": [
    {
     "name": "stderr",
     "output_type": "stream",
     "text": [
      "100%|██████████| 100/100 [00:00<00:00, 486.24it/s]\n"
     ]
    },
    {
     "data": {
      "text/plain": [
       "{'puntuacion_media': np.float64(8.45),\n",
       " 'puntuacion_maxima': np.int64(16),\n",
       " 'puntuacion_minima': np.int64(4),\n",
       " 'movimientos_medios': np.float64(510.44),\n",
       " 'movimientos_maximos': np.int64(1154),\n",
       " 'movimientos_minimos': np.int64(163),\n",
       " 'movimientos por puntuacion': np.float64(60.40710059171598)}"
      ]
     },
     "execution_count": 12,
     "metadata": {},
     "output_type": "execute_result"
    }
   ],
   "execution_count": 12
  },
  {
   "cell_type": "code",
   "id": "c4c8e6be",
   "metadata": {
    "ExecuteTime": {
     "end_time": "2025-01-13T22:16:24.201619Z",
     "start_time": "2025-01-13T22:16:23.722024Z"
    }
   },
   "source": [
    "agent_1 = dependencias.Agentes.ChaserAgent()\n",
    "agente_2 = dependencias.Agentes.Avoid_inmediate_death()\n",
    "\n",
    "agente_combiando = dependencias.Agentes.Combined_agent(agentes = (agent_1, agente_2), weights= (0.5, 1))\n",
    "\n",
    "game = dependencias.Snake_game((15, 15), 5, agente_combiando)\n",
    "game.evaluar()"
   ],
   "outputs": [
    {
     "name": "stderr",
     "output_type": "stream",
     "text": [
      "100%|██████████| 100/100 [00:00<00:00, 211.89it/s]\n"
     ]
    },
    {
     "data": {
      "text/plain": [
       "{'puntuacion_media': np.float64(32.38),\n",
       " 'puntuacion_maxima': np.int64(63),\n",
       " 'puntuacion_minima': np.int64(8),\n",
       " 'movimientos_medios': np.float64(177.65),\n",
       " 'movimientos_maximos': np.int64(393),\n",
       " 'movimientos_minimos': np.int64(37),\n",
       " 'movimientos por puntuacion': np.float64(5.486411365040148)}"
      ]
     },
     "execution_count": 13,
     "metadata": {},
     "output_type": "execute_result"
    }
   ],
   "execution_count": 13
  },
  {
   "metadata": {
    "ExecuteTime": {
     "end_time": "2025-01-14T00:07:33.244901Z",
     "start_time": "2025-01-14T00:07:21.622975Z"
    }
   },
   "cell_type": "code",
   "source": [
    "agent = dependencias.Agentes.Aantiloop()\n",
    "game = dependencias.Snake_game((15, 15), 30, agent)\n",
    "game.play_with_pygame()\n"
   ],
   "id": "a04564d31c6249bc",
   "outputs": [],
   "execution_count": 6
  },
  {
   "metadata": {},
   "cell_type": "code",
   "outputs": [],
   "execution_count": null,
   "source": "combinado = dependencias.Agentes.Combined_agent(agentes = (agente_avoider, agen), weights= (0.5, 1))",
   "id": "7b92f6b6be9c5983"
  },
  {
   "metadata": {
    "ExecuteTime": {
     "end_time": "2025-01-15T21:33:13.569549Z",
     "start_time": "2025-01-15T21:33:13.566644Z"
    }
   },
   "cell_type": "code",
   "source": [
    "tail_chasser = dependencias.Agentes.Tail_Chasser()\n",
    "avoider = dependencias.Agentes.Avoid_inmediate_death()\n",
    "chasser = dependencias.Agentes.ChaserAgent()"
   ],
   "id": "46fca8be6d34d1f",
   "outputs": [],
   "execution_count": 4
  },
  {
   "metadata": {
    "ExecuteTime": {
     "end_time": "2025-01-15T21:32:25.545229Z",
     "start_time": "2025-01-15T21:32:09.003761Z"
    }
   },
   "cell_type": "code",
   "source": [
    "tail_chasser = dependencias.Agentes.Tail_Chasser()\n",
    "game = dependencias.Snake_game((15, 15), 5, tail_chasser)\n",
    "game.play_with_pygame()"
   ],
   "id": "2ceb94d71c4940ab",
   "outputs": [],
   "execution_count": 3
  },
  {
   "metadata": {
    "ExecuteTime": {
     "end_time": "2025-01-15T21:35:56.442117Z",
     "start_time": "2025-01-15T21:33:47.990398Z"
    }
   },
   "cell_type": "code",
   "source": [
    "cobinado = dependencias.Agentes.Combined_agent(agentes = (tail_chasser, chasser, avoider), weights= (5, 1, 2))\n",
    "game = dependencias.Snake_game((15, 15), 5, cobinado)\n",
    "game.play_with_pygame()"
   ],
   "id": "28e1c6b386a44022",
   "outputs": [],
   "execution_count": 6
  },
  {
   "metadata": {
    "ExecuteTime": {
     "end_time": "2025-01-15T21:39:35.247412Z",
     "start_time": "2025-01-15T21:38:48.382759Z"
    }
   },
   "cell_type": "code",
   "source": "game.evaluar()",
   "id": "9082863a109002d7",
   "outputs": [
    {
     "name": "stderr",
     "output_type": "stream",
     "text": [
      "100%|██████████| 100/100 [00:46<00:00,  2.13it/s]\n"
     ]
    },
    {
     "data": {
      "text/plain": [
       "{'puntuacion_media': np.float64(132.24),\n",
       " 'puntuacion_maxima': np.int64(186),\n",
       " 'puntuacion_minima': np.int64(52),\n",
       " 'movimientos_medios': np.float64(1110.76),\n",
       " 'movimientos_maximos': np.int64(1865),\n",
       " 'movimientos_minimos': np.int64(342),\n",
       " 'movimientos por puntuacion': np.float64(8.39957652752571)}"
      ]
     },
     "execution_count": 9,
     "metadata": {},
     "output_type": "execute_result"
    }
   ],
   "execution_count": 9
  },
  {
   "metadata": {
    "ExecuteTime": {
     "end_time": "2025-01-15T21:37:52.831176Z",
     "start_time": "2025-01-15T21:37:52.828202Z"
    }
   },
   "cell_type": "code",
   "source": "print('hola')",
   "id": "4d8f2879e146a430",
   "outputs": [
    {
     "name": "stdout",
     "output_type": "stream",
     "text": [
      "hola\n"
     ]
    }
   ],
   "execution_count": 8
  },
  {
   "metadata": {
    "ExecuteTime": {
     "end_time": "2025-01-15T21:44:37.799734Z",
     "start_time": "2025-01-15T21:44:37.796176Z"
    }
   },
   "cell_type": "code",
   "source": "15 *15\n",
   "id": "56765f023da81eb4",
   "outputs": [
    {
     "data": {
      "text/plain": [
       "225"
      ]
     },
     "execution_count": 10,
     "metadata": {},
     "output_type": "execute_result"
    }
   ],
   "execution_count": 10
  },
  {
   "metadata": {
    "ExecuteTime": {
     "end_time": "2025-01-17T13:45:15.167479Z",
     "start_time": "2025-01-17T13:45:15.032016Z"
    }
   },
   "cell_type": "code",
   "source": [
    "cycle_detector = dependencias.Agentes.Cycle_detector()\n",
    "\n",
    "game = dependencias.Snake_game((15, 15), 5, cycle_detector)\n",
    "game.play_with_pygame()\n",
    "\n"
   ],
   "id": "7ba8267ce5c3602f",
   "outputs": [
    {
     "ename": "ValueError",
     "evalue": "not enough values to unpack (expected 2, got 1)",
     "output_type": "error",
     "traceback": [
      "\u001B[1;31m---------------------------------------------------------------------------\u001B[0m",
      "\u001B[1;31mValueError\u001B[0m                                Traceback (most recent call last)",
      "Cell \u001B[1;32mIn[4], line 4\u001B[0m\n\u001B[0;32m      1\u001B[0m cycle_detector \u001B[38;5;241m=\u001B[39m dependencias\u001B[38;5;241m.\u001B[39mAgentes\u001B[38;5;241m.\u001B[39mCycle_detector()\n\u001B[0;32m      3\u001B[0m game \u001B[38;5;241m=\u001B[39m dependencias\u001B[38;5;241m.\u001B[39mSnake_game((\u001B[38;5;241m15\u001B[39m, \u001B[38;5;241m15\u001B[39m), \u001B[38;5;241m5\u001B[39m, cycle_detector)\n\u001B[1;32m----> 4\u001B[0m \u001B[43mgame\u001B[49m\u001B[38;5;241;43m.\u001B[39;49m\u001B[43mplay_with_pygame\u001B[49m\u001B[43m(\u001B[49m\u001B[43m)\u001B[49m\n",
      "File \u001B[1;32m~\\Desktop\\practica_3_ALN\\dependencias\\juego_base.py:194\u001B[0m, in \u001B[0;36mSnake_game.play_with_pygame\u001B[1;34m(self)\u001B[0m\n\u001B[0;32m    191\u001B[0m         pygame\u001B[38;5;241m.\u001B[39mquit()\n\u001B[0;32m    192\u001B[0m         \u001B[38;5;28;01mreturn\u001B[39;00m\n\u001B[1;32m--> 194\u001B[0m action \u001B[38;5;241m=\u001B[39m \u001B[38;5;28;43mself\u001B[39;49m\u001B[38;5;241;43m.\u001B[39;49m\u001B[43magent\u001B[49m\u001B[38;5;241;43m.\u001B[39;49m\u001B[43mget_action\u001B[49m\u001B[43m(\u001B[49m\u001B[38;5;28;43mself\u001B[39;49m\u001B[38;5;241;43m.\u001B[39;49m\u001B[43mstate\u001B[49m\u001B[43m)\u001B[49m\n\u001B[0;32m    195\u001B[0m \u001B[38;5;28mself\u001B[39m\u001B[38;5;241m.\u001B[39mstate\u001B[38;5;241m.\u001B[39mupdate(action)\n\u001B[0;32m    197\u001B[0m screen\u001B[38;5;241m.\u001B[39mfill((\u001B[38;5;241m0\u001B[39m, \u001B[38;5;241m0\u001B[39m, \u001B[38;5;241m0\u001B[39m))\n",
      "File \u001B[1;32m~\\Desktop\\practica_3_ALN\\dependencias\\Agentes\\Heuristic_Agent.py:21\u001B[0m, in \u001B[0;36mHeuristic_Agent.get_action\u001B[1;34m(self, state)\u001B[0m\n\u001B[0;32m     18\u001B[0m \u001B[38;5;250m\u001B[39m\u001B[38;5;124;03m\"\"\"Este metodo devuelve la accion a tomar en funcion del estado actual.\"\"\"\u001B[39;00m\n\u001B[0;32m     19\u001B[0m \u001B[38;5;66;03m# Devolvemos la accion con mayor peso en caso de empate uno al azar de los que tengan el mayor peso\u001B[39;00m\n\u001B[1;32m---> 21\u001B[0m \u001B[38;5;28;43mself\u001B[39;49m\u001B[38;5;241;43m.\u001B[39;49m\u001B[43mget_rewards\u001B[49m\u001B[43m(\u001B[49m\u001B[43mstate\u001B[49m\u001B[43m)\u001B[49m\n\u001B[0;32m     24\u001B[0m max_reward \u001B[38;5;241m=\u001B[39m \u001B[38;5;28mmax\u001B[39m(\u001B[38;5;28mself\u001B[39m\u001B[38;5;241m.\u001B[39mrewards\u001B[38;5;241m.\u001B[39mvalues())\n\u001B[0;32m     25\u001B[0m best_actions \u001B[38;5;241m=\u001B[39m [action \u001B[38;5;28;01mfor\u001B[39;00m action, reward \u001B[38;5;129;01min\u001B[39;00m \u001B[38;5;28mself\u001B[39m\u001B[38;5;241m.\u001B[39mrewards\u001B[38;5;241m.\u001B[39mitems() \u001B[38;5;28;01mif\u001B[39;00m reward \u001B[38;5;241m==\u001B[39m max_reward]\n",
      "File \u001B[1;32m~\\Desktop\\practica_3_ALN\\dependencias\\Agentes\\Cycle_detector.py:52\u001B[0m, in \u001B[0;36mCycle_detector.get_rewards\u001B[1;34m(self, state)\u001B[0m\n\u001B[0;32m     50\u001B[0m \u001B[38;5;28;01mif\u001B[39;00m state\u001B[38;5;241m.\u001B[39msnake[\u001B[38;5;241m0\u001B[39m] \u001B[38;5;129;01min\u001B[39;00m \u001B[38;5;28mself\u001B[39m\u001B[38;5;241m.\u001B[39msecuencia_principal \u001B[38;5;129;01mand\u001B[39;00m \u001B[38;5;129;01mnot\u001B[39;00m \u001B[38;5;28mself\u001B[39m\u001B[38;5;241m.\u001B[39mpunto_repeticion:\n\u001B[0;32m     51\u001B[0m     \u001B[38;5;28mself\u001B[39m\u001B[38;5;241m.\u001B[39mpunto_repeticion \u001B[38;5;241m=\u001B[39m state\u001B[38;5;241m.\u001B[39msnake[\u001B[38;5;241m0\u001B[39m]\n\u001B[1;32m---> 52\u001B[0m     i_0, i_f \u001B[38;5;241m=\u001B[39m [i \u001B[38;5;28;01mfor\u001B[39;00m i \u001B[38;5;129;01min\u001B[39;00m \u001B[38;5;28mself\u001B[39m\u001B[38;5;241m.\u001B[39msecuencia_principal \u001B[38;5;28;01mif\u001B[39;00m i \u001B[38;5;241m==\u001B[39m \u001B[38;5;28mself\u001B[39m\u001B[38;5;241m.\u001B[39mpunto_repeticion][:\u001B[38;5;241m2\u001B[39m]\n\u001B[0;32m     53\u001B[0m     ciclo \u001B[38;5;241m=\u001B[39m \u001B[38;5;28mself\u001B[39m\u001B[38;5;241m.\u001B[39msecuencia_principal[i_0:i_f \u001B[38;5;241m+\u001B[39m \u001B[38;5;241m1\u001B[39m]\u001B[38;5;241m.\u001B[39mcopy()\n\u001B[0;32m     55\u001B[0m \u001B[38;5;66;03m# En caso de que estemos evaluando una repeticion, comprobamos si hemos vuelto a la secuencia principal\u001B[39;00m\n",
      "\u001B[1;31mValueError\u001B[0m: not enough values to unpack (expected 2, got 1)"
     ]
    }
   ],
   "execution_count": 4
  },
  {
   "metadata": {},
   "cell_type": "code",
   "outputs": [],
   "execution_count": null,
   "source": "",
   "id": "175244818ac82a9a"
  }
 ],
 "metadata": {
  "kernelspec": {
   "display_name": "Python 3",
   "language": "python",
   "name": "python3"
  },
  "language_info": {
   "codemirror_mode": {
    "name": "ipython",
    "version": 3
   },
   "file_extension": ".py",
   "mimetype": "text/x-python",
   "name": "python",
   "nbconvert_exporter": "python",
   "pygments_lexer": "ipython3",
   "version": "3.12.5"
  }
 },
 "nbformat": 4,
 "nbformat_minor": 5
}
