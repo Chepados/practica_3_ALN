{
 "cells": [
  {
   "cell_type": "code",
   "execution_count": 3,
   "id": "737a5e357ff08ad4",
   "metadata": {
    "ExecuteTime": {
     "end_time": "2025-01-14T00:06:27.426971Z",
     "start_time": "2025-01-14T00:06:27.297935Z"
    }
   },
   "outputs": [],
   "source": [
    "import dependencias"
   ]
  },
  {
   "cell_type": "code",
   "execution_count": 2,
   "id": "1a8bc2d3d4241f3a",
   "metadata": {
    "ExecuteTime": {
     "end_time": "2025-01-13T22:16:59.553566Z",
     "start_time": "2025-01-13T22:16:59.471062Z"
    }
   },
   "outputs": [
    {
     "name": "stderr",
     "output_type": "stream",
     "text": [
      "100%|██████████| 100/100 [00:00<00:00, 1583.01it/s]\n"
     ]
    },
    {
     "data": {
      "text/plain": [
       "{'puntuacion_media': np.float64(6.96),\n",
       " 'puntuacion_maxima': np.int64(24),\n",
       " 'puntuacion_minima': np.int64(3),\n",
       " 'movimientos_medios': np.float64(31.11),\n",
       " 'movimientos_maximos': np.int64(106),\n",
       " 'movimientos_minimos': np.int64(3),\n",
       " 'movimientos por puntuacion': np.float64(4.469827586206897)}"
      ]
     },
     "execution_count": 2,
     "metadata": {},
     "output_type": "execute_result"
    }
   ],
   "source": [
    "agent = dependencias.Agentes.ChaserAgent()\n",
    "game = dependencias.Snake_game((15, 15), 5, agent)\n",
    "game.evaluar()"
   ]
  },
  {
   "cell_type": "code",
   "execution_count": 4,
   "id": "5f73f3c0a821b60d",
   "metadata": {
    "ExecuteTime": {
     "end_time": "2025-01-13T22:15:41.443829Z",
     "start_time": "2025-01-13T22:15:29.878857Z"
    }
   },
   "outputs": [],
   "source": [
    "agent = dependencias.Agentes.Avoid_inmediate_death()\n",
    "game = dependencias.Snake_game((15, 15), 5, agent)\n",
    "game.play_with_pygame()\n"
   ]
  },
  {
   "cell_type": "code",
   "execution_count": 12,
   "id": "0eee44cc",
   "metadata": {
    "ExecuteTime": {
     "end_time": "2025-01-13T22:16:15.816085Z",
     "start_time": "2025-01-13T22:16:15.603537Z"
    }
   },
   "outputs": [
    {
     "name": "stderr",
     "output_type": "stream",
     "text": [
      "100%|██████████| 100/100 [00:00<00:00, 486.24it/s]\n"
     ]
    },
    {
     "data": {
      "text/plain": [
       "{'puntuacion_media': np.float64(8.45),\n",
       " 'puntuacion_maxima': np.int64(16),\n",
       " 'puntuacion_minima': np.int64(4),\n",
       " 'movimientos_medios': np.float64(510.44),\n",
       " 'movimientos_maximos': np.int64(1154),\n",
       " 'movimientos_minimos': np.int64(163),\n",
       " 'movimientos por puntuacion': np.float64(60.40710059171598)}"
      ]
     },
     "execution_count": 12,
     "metadata": {},
     "output_type": "execute_result"
    }
   ],
   "source": [
    "agent = dependencias.Agentes.Avoid_inmediate_death()\n",
    "game = dependencias.Snake_game((15, 15), 5, agent)\n",
    "game.evaluar()\n"
   ]
  },
  {
   "cell_type": "code",
   "execution_count": 4,
   "id": "c4c8e6be",
   "metadata": {
    "ExecuteTime": {
     "end_time": "2025-01-13T22:16:24.201619Z",
     "start_time": "2025-01-13T22:16:23.722024Z"
    }
   },
   "outputs": [
    {
     "name": "stderr",
     "output_type": "stream",
     "text": [
      "100%|██████████| 100/100 [00:00<00:00, 230.22it/s]\n"
     ]
    },
    {
     "data": {
      "text/plain": [
       "{'puntuacion_media': np.float64(31.86),\n",
       " 'puntuacion_maxima': np.int64(75),\n",
       " 'puntuacion_minima': np.int64(7),\n",
       " 'movimientos_medios': np.float64(172.5),\n",
       " 'movimientos_maximos': np.int64(441),\n",
       " 'movimientos_minimos': np.int64(34),\n",
       " 'movimientos por puntuacion': np.float64(5.414312617702448)}"
      ]
     },
     "execution_count": 4,
     "metadata": {},
     "output_type": "execute_result"
    }
   ],
   "source": [
    "agent_1 = dependencias.Agentes.ChaserAgent()\n",
    "agente_2 = dependencias.Agentes.Avoid_inmediate_death()\n",
    "\n",
    "agente_combiando = dependencias.Agentes.Combined_agent(agentes = (agent_1, agente_2), weights= (0.5, 1))\n",
    "\n",
    "game = dependencias.Snake_game((15, 15), 5, agente_combiando)\n",
    "game.evaluar()"
   ]
  },
  {
   "cell_type": "code",
   "execution_count": 3,
   "id": "a04564d31c6249bc",
   "metadata": {
    "ExecuteTime": {
     "end_time": "2025-01-14T00:07:33.244901Z",
     "start_time": "2025-01-14T00:07:21.622975Z"
    }
   },
   "outputs": [],
   "source": [
    "agent = dependencias.Agentes.Aantiloop()\n",
    "game = dependencias.Snake_game((15, 15), 30, agent)\n",
    "game.play_with_pygame()\n"
   ]
  },
  {
   "cell_type": "code",
   "execution_count": 11,
   "id": "7b92f6b6be9c5983",
   "metadata": {},
   "outputs": [],
   "source": [
    "import dependencias.Agentes\n",
    "\n",
    "\n",
    "chaser = dependencias.Agentes.ChaserAgent()\n",
    "game = dependencias.Snake_game((15, 15), 30, chaser)\n",
    "game.play_with_pygame()"
   ]
  },
  {
   "cell_type": "code",
   "execution_count": 16,
   "id": "c3c34c92",
   "metadata": {},
   "outputs": [],
   "source": [
    "combinado = dependencias.Agentes.Combined_agent(agentes = (chaser, agente_2, agent), weights= (0.5, 1, 2))\n",
    "game = dependencias.Snake_game((15, 15), 10, combinado)\n",
    "\n",
    "game.play_with_pygame()"
   ]
  }
 ],
 "metadata": {
  "kernelspec": {
   "display_name": "Python 3",
   "language": "python",
   "name": "python3"
  },
  "language_info": {
   "codemirror_mode": {
    "name": "ipython",
    "version": 3
   },
   "file_extension": ".py",
   "mimetype": "text/x-python",
   "name": "python",
   "nbconvert_exporter": "python",
   "pygments_lexer": "ipython3",
   "version": "3.11.9"
  }
 },
 "nbformat": 4,
 "nbformat_minor": 5
}
