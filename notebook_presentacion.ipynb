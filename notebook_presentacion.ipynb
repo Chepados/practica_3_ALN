{
 "cells": [
  {
   "cell_type": "markdown",
   "id": "d962182cfdf723d6",
   "metadata": {},
   "source": [
    "<center><img src=\"media/imagenes/Banner.png\" width = 1000></center>"
   ]
  },
  {
   "cell_type": "code",
   "execution_count": 1,
   "id": "111b71fb835de854",
   "metadata": {
    "ExecuteTime": {
     "end_time": "2025-01-14T10:29:43.055274Z",
     "start_time": "2025-01-14T10:29:42.750563Z"
    }
   },
   "outputs": [
    {
     "name": "stdout",
     "output_type": "stream",
     "text": [
      "pygame 2.6.1 (SDL 2.28.4, Python 3.11.9)\n",
      "Hello from the pygame community. https://www.pygame.org/contribute.html\n"
     ]
    }
   ],
   "source": [
    "from sys import implementation\n",
    "\n",
    "import dependencias\n",
    "from pprint import pprint"
   ]
  },
  {
   "cell_type": "markdown",
   "id": "22f54753c31fe610",
   "metadata": {},
   "source": [
    "### Reglas\n",
    "\n",
    "Hay que enseñar lo que hemos implentado del juego base"
   ]
  },
  {
   "cell_type": "markdown",
   "id": "bc289102eebca739",
   "metadata": {},
   "source": [
    "## Agentes"
   ]
  },
  {
   "cell_type": "markdown",
   "id": "4ebbbd6af6c0c68d",
   "metadata": {},
   "source": [
    "### Agentes Basados en Heuristicas.\n",
    "\n",
    "Hemos definido un primer tipo de agente basado en heurísticas que se basa en los siguientes pasos:\n",
    "\n",
    "- get_reward: Calcula la recompensa para cada movimiento en funcion de una politica de recompensa.\n",
    "- get_action: Calcula la mejor acción a realizar en función de la recompensa obtenida.\n",
    "\n",
    "de este modo podemos empezar a jugar con el agente y ver como se comporta."
   ]
  },
  {
   "cell_type": "markdown",
   "id": "3e9d7108e737e3f5",
   "metadata": {},
   "source": [
    "## Agentes Chaser\n",
    "\n",
    "La politica de recompensa de este agente se basa en la distancia entre la cabeza de la serpiente y la comida, de este modo el agente siempre intentará acercarse a la comida, aunque esto implique que la serpiente se muera."
   ]
  },
  {
   "cell_type": "code",
   "execution_count": 2,
   "id": "ce71e919a9774741",
   "metadata": {
    "ExecuteTime": {
     "end_time": "2025-01-14T00:13:45.820784Z",
     "start_time": "2025-01-14T00:13:45.817770Z"
    }
   },
   "outputs": [],
   "source": [
    "agente_chaser = dependencias.Agentes.ChaserAgent()"
   ]
  },
  {
   "cell_type": "code",
   "execution_count": 7,
   "id": "8b93e851f276b71d",
   "metadata": {
    "ExecuteTime": {
     "end_time": "2025-01-13T23:08:54.374752Z",
     "start_time": "2025-01-13T23:08:52.179042Z"
    }
   },
   "outputs": [],
   "source": [
    "# Ejecuta esta celda para ver como se comporta el agente\n",
    "game = dependencias.Snake_game((15, 15), 5, agente_chaser)\n",
    "game.play_with_pygame()"
   ]
  },
  {
   "cell_type": "code",
   "execution_count": 22,
   "id": "a40361a9bfbb8600",
   "metadata": {
    "ExecuteTime": {
     "end_time": "2025-01-13T23:12:09.371202Z",
     "start_time": "2025-01-13T23:12:09.309544Z"
    }
   },
   "outputs": [
    {
     "name": "stderr",
     "output_type": "stream",
     "text": [
      "100%|██████████| 100/100 [00:00<00:00, 1449.16it/s]"
     ]
    },
    {
     "name": "stdout",
     "output_type": "stream",
     "text": [
      "{'movimientos por puntuacion': np.float64(4.481045751633987),\n",
      " 'movimientos_maximos': np.int64(113),\n",
      " 'movimientos_medios': np.float64(34.28),\n",
      " 'movimientos_minimos': np.int64(7),\n",
      " 'puntuacion_maxima': np.int64(24),\n",
      " 'puntuacion_media': np.float64(7.65),\n",
      " 'puntuacion_minima': np.int64(3)}\n"
     ]
    },
    {
     "name": "stderr",
     "output_type": "stream",
     "text": [
      "\n"
     ]
    }
   ],
   "source": [
    "estadisticas = game.evaluar()\n",
    "pprint(estadisticas)"
   ]
  },
  {
   "cell_type": "markdown",
   "id": "982affadbdb6076b",
   "metadata": {},
   "source": [
    "### Conclusiones\n",
    "\n",
    "Este agente tarda solo 4 movimientos en conseguir la comida, pero no alcanza puntuaciones muy altas.\n",
    "\n",
    "### Mejoras\n",
    "\n",
    "Este agente podría ser mejorado si se le añade una penalización por muerte inmediata."
   ]
  },
  {
   "cell_type": "markdown",
   "id": "5895a96839b301c5",
   "metadata": {},
   "source": [
    "## Agentes Avoider\n",
    "\n",
    "La politica de recompensa de este agente se basa en evitar las muertes inediatas, ya sea contra la serpriente o contra las paredes, asociando una penalización a estos movimientos."
   ]
  },
  {
   "cell_type": "code",
   "execution_count": 23,
   "id": "47d1db2bdeefc94d",
   "metadata": {
    "ExecuteTime": {
     "end_time": "2025-01-14T00:13:48.638862Z",
     "start_time": "2025-01-14T00:13:48.635482Z"
    }
   },
   "outputs": [],
   "source": [
    "agente_avoider = dependencias.Agentes.Avoid_inmediate_death()"
   ]
  },
  {
   "cell_type": "code",
   "execution_count": 24,
   "id": "34242dee54cd21fe",
   "metadata": {
    "ExecuteTime": {
     "end_time": "2025-01-13T23:15:34.687827Z",
     "start_time": "2025-01-13T23:14:45.679318Z"
    }
   },
   "outputs": [],
   "source": [
    "# Ejecuta esta celda para ver como se comporta el agente\n",
    "game = dependencias.Snake_game((15, 15), 5, agente_avoider)\n",
    "game.play_with_pygame()"
   ]
  },
  {
   "cell_type": "code",
   "execution_count": 28,
   "id": "3161d72e0bd1f13b",
   "metadata": {
    "ExecuteTime": {
     "end_time": "2025-01-13T23:15:44.868171Z",
     "start_time": "2025-01-13T23:15:44.625383Z"
    }
   },
   "outputs": [
    {
     "name": "stderr",
     "output_type": "stream",
     "text": [
      "100%|██████████| 100/100 [00:00<00:00, 497.40it/s]"
     ]
    },
    {
     "name": "stdout",
     "output_type": "stream",
     "text": [
      "{'movimientos por puntuacion': np.float64(56.56630434782609),\n",
      " 'movimientos_maximos': np.int64(1427),\n",
      " 'movimientos_medios': np.float64(520.41),\n",
      " 'movimientos_minimos': np.int64(101),\n",
      " 'puntuacion_maxima': np.int64(16),\n",
      " 'puntuacion_media': np.float64(9.2),\n",
      " 'puntuacion_minima': np.int64(4)}\n"
     ]
    },
    {
     "name": "stderr",
     "output_type": "stream",
     "text": [
      "\n"
     ]
    }
   ],
   "source": [
    "estadisticas = game.evaluar()\n",
    "pprint(estadisticas)"
   ]
  },
  {
   "cell_type": "markdown",
   "id": "4ce8684424ccb852",
   "metadata": {},
   "source": [
    "### Conclusiones\n",
    "\n",
    "Este agente majora mucho su tiempo de vida, pero no consigue alcanzar la comida de manera eficiente.\n",
    "\n",
    "### Mejoras\n",
    "\n",
    "Ademas vemos que con evitar muertes inmediatas no es suficiente, puesto que hay escenarios en los que te puedes quedar encerrado."
   ]
  },
  {
   "cell_type": "markdown",
   "id": "b27f538b5d98c989",
   "metadata": {},
   "source": [
    "## Combinacion de agentes\n",
    "\n",
    "Esta implementation de los agentes tan particular, nos perite combinar las recompensas que le dan a cada movimiento distintos agentes para conseguir un agente que se comporte de una manera más eficiente."
   ]
  },
  {
   "cell_type": "code",
   "execution_count": 3,
   "id": "26314a8eefae079a",
   "metadata": {
    "ExecuteTime": {
     "end_time": "2025-01-14T00:10:10.073119Z",
     "start_time": "2025-01-14T00:10:09.832960Z"
    }
   },
   "outputs": [
    {
     "ename": "NameError",
     "evalue": "name 'agente_chaser' is not defined",
     "output_type": "error",
     "traceback": [
      "\u001b[1;31m---------------------------------------------------------------------------\u001b[0m",
      "\u001b[1;31mNameError\u001b[0m                                 Traceback (most recent call last)",
      "Cell \u001b[1;32mIn[3], line 1\u001b[0m\n\u001b[1;32m----> 1\u001b[0m agente_combinado \u001b[38;5;241m=\u001b[39m dependencias\u001b[38;5;241m.\u001b[39mAgentes\u001b[38;5;241m.\u001b[39mCombined_agent((agente_avoider, \u001b[43magente_chaser\u001b[49m), (\u001b[38;5;241m1\u001b[39m, \u001b[38;5;241m0.5\u001b[39m))\n",
      "\u001b[1;31mNameError\u001b[0m: name 'agente_chaser' is not defined"
     ]
    }
   ],
   "source": [
    "agente_combinado = dependencias.Agentes.Combined_agent((agente_avoider, agente_chaser), (1, 0.5))"
   ]
  },
  {
   "cell_type": "code",
   "execution_count": 5,
   "id": "fed9b2ad778e7e8f",
   "metadata": {
    "ExecuteTime": {
     "end_time": "2025-01-14T10:34:00.357665Z",
     "start_time": "2025-01-14T10:33:24.789689Z"
    }
   },
   "outputs": [],
   "source": [
    "# Ejecuta esta celda para ver como se comporta el agente\n",
    "game = dependencias.Snake_game((15, 15), 5, agente_combinado)\n",
    "game.play_with_pygame()"
   ]
  },
  {
   "cell_type": "code",
   "execution_count": 31,
   "id": "d6df7ca7bbbc7ec1",
   "metadata": {
    "ExecuteTime": {
     "end_time": "2025-01-13T23:24:16.325384Z",
     "start_time": "2025-01-13T23:24:16.090221Z"
    }
   },
   "outputs": [
    {
     "name": "stderr",
     "output_type": "stream",
     "text": [
      "100%|██████████| 100/100 [00:00<00:00, 440.01it/s]"
     ]
    },
    {
     "name": "stdout",
     "output_type": "stream",
     "text": [
      "{'movimientos por puntuacion': np.float64(60.81171067738231),\n",
      " 'movimientos_maximos': np.int64(2610),\n",
      " 'movimientos_medios': np.float64(529.67),\n",
      " 'movimientos_minimos': np.int64(133),\n",
      " 'puntuacion_maxima': np.int64(16),\n",
      " 'puntuacion_media': np.float64(8.71),\n",
      " 'puntuacion_minima': np.int64(4)}\n"
     ]
    },
    {
     "name": "stderr",
     "output_type": "stream",
     "text": [
      "\n"
     ]
    }
   ],
   "source": [
    "estadisticas = game.evaluar()\n",
    "pprint(estadisticas)"
   ]
  },
  {
   "cell_type": "markdown",
   "id": "b6b8c6818edb8ffc",
   "metadata": {},
   "source": [
    "### Conclusiones\n",
    "\n",
    "El comportaiento de este agente es mucho mejor que el de los agentes individuales, y parece una buena estrategia para el inicio del juego.\n",
    "\n",
    "### Mejoras\n",
    "\n",
    "El agente sigue sin ser capaz de evitar quedarse encerrado, hay que añadir una heuristica mas a futuro para evitar este tipo de situaciones."
   ]
  },
  {
   "cell_type": "code",
   "execution_count": 15,
   "id": "bff528cebd91a5c6",
   "metadata": {
    "ExecuteTime": {
     "end_time": "2025-01-14T10:44:16.097935Z",
     "start_time": "2025-01-14T10:43:45.154487Z"
    }
   },
   "outputs": [],
   "source": [
    "agente_searcher = dependencias.Agentes.Aantiloop()\n",
    "agente_avoider = dependencias.Agentes.Avoid_inmediate_death()\n",
    "agente_chaser = dependencias.Agentes.ChaserAgent()\n",
    "\n",
    "agente_combinado = dependencias.Agentes.Combined_agent((agente_avoider, agente_chaser, agente_searcher), (1, 0, 10))\n",
    "game = dependencias.Snake_game((15, 15), 5, agente_combinado)\n",
    "game.play_with_pygame()"
   ]
  },
  {
   "cell_type": "code",
   "execution_count": 17,
   "id": "2e61d47864b2b6f2",
   "metadata": {
    "ExecuteTime": {
     "end_time": "2025-01-14T10:45:05.197097Z",
     "start_time": "2025-01-14T10:44:31.114411Z"
    }
   },
   "outputs": [
    {
     "name": "stderr",
     "output_type": "stream",
     "text": [
      "100%|██████████| 10/10 [00:34<00:00,  3.41s/it]"
     ]
    },
    {
     "name": "stdout",
     "output_type": "stream",
     "text": [
      "{'movimientos por puntuacion': np.float64(40.07934508816121),\n",
      " 'movimientos_maximos': np.int64(3628),\n",
      " 'movimientos_medios': np.float64(3182.3),\n",
      " 'movimientos_minimos': np.int64(2509),\n",
      " 'puntuacion_maxima': np.int64(98),\n",
      " 'puntuacion_media': np.float64(79.4),\n",
      " 'puntuacion_minima': np.int64(66)}\n"
     ]
    },
    {
     "name": "stderr",
     "output_type": "stream",
     "text": [
      "\n"
     ]
    }
   ],
   "source": [
    "estadisticas = game.evaluar(10)\n",
    "pprint(estadisticas)"
   ]
  },
  {
   "cell_type": "code",
   "execution_count": 21,
   "id": "8da367cd76aab33f",
   "metadata": {
    "ExecuteTime": {
     "end_time": "2025-01-14T10:46:29.782256Z",
     "start_time": "2025-01-14T10:46:27.714319Z"
    }
   },
   "outputs": [],
   "source": [
    "agente_combinado = dependencias.Agentes.Combined_agent((agente_avoider, agente_chaser, agente_searcher), (1, 0.2, 3))\n",
    "game = dependencias.Snake_game((15, 15), 5, agente_combinado)\n",
    "game.play_with_pygame()"
   ]
  },
  {
   "cell_type": "code",
   "execution_count": 24,
   "id": "4f167c2222d2eee0",
   "metadata": {
    "ExecuteTime": {
     "end_time": "2025-01-14T10:50:07.886054Z",
     "start_time": "2025-01-14T10:49:10.498605Z"
    }
   },
   "outputs": [
    {
     "name": "stderr",
     "output_type": "stream",
     "text": [
      "100%|██████████| 100/100 [00:57<00:00,  1.74it/s]"
     ]
    },
    {
     "name": "stdout",
     "output_type": "stream",
     "text": [
      "{'movimientos por puntuacion': np.float64(6.8849013073570875),\n",
      " 'movimientos_maximos': np.int64(971),\n",
      " 'movimientos_medios': np.float64(537.16),\n",
      " 'movimientos_minimos': np.int64(294),\n",
      " 'puntuacion_maxima': np.int64(126),\n",
      " 'puntuacion_media': np.float64(78.02),\n",
      " 'puntuacion_minima': np.int64(48)}\n"
     ]
    },
    {
     "name": "stderr",
     "output_type": "stream",
     "text": [
      "\n"
     ]
    }
   ],
   "source": [
    "estadisticas = game.evaluar(100)\n",
    "pprint(estadisticas)"
   ]
  },
  {
   "cell_type": "markdown",
   "id": "413c962dc7316050",
   "metadata": {},
   "source": []
  }
 ],
 "metadata": {
  "kernelspec": {
   "display_name": "Python 3",
   "language": "python",
   "name": "python3"
  },
  "language_info": {
   "codemirror_mode": {
    "name": "ipython",
    "version": 3
   },
   "file_extension": ".py",
   "mimetype": "text/x-python",
   "name": "python",
   "nbconvert_exporter": "python",
   "pygments_lexer": "ipython3",
   "version": "3.11.9"
  }
 },
 "nbformat": 4,
 "nbformat_minor": 5
}
