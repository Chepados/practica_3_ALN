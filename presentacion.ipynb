{
 "cells": [
  {
   "cell_type": "markdown",
   "metadata": {},
   "source": [
    "<center><img src=\"media/imagenes/Banner.png\" width = 1000></center>"
   ]
  },
  {
   "cell_type": "markdown",
   "metadata": {},
   "source": [
    "Este notebook pretende enseñar el resultado de todas las implementaciones sin meterse mucho en los detalles de la implementación. Pretende ser una guía visual e interactiva, para entender todas las decisiones de diseño que hemos tomado en el proyecto. Está pensado para ser ejecutado celda a celda salvo que se diga lo contrario."
   ]
  },
  {
   "cell_type": "code",
   "execution_count": 1,
   "metadata": {},
   "outputs": [
    {
     "name": "stdout",
     "output_type": "stream",
     "text": [
      "pygame 2.6.1 (SDL 2.28.4, Python 3.11.9)\n",
      "Hello from the pygame community. https://www.pygame.org/contribute.html\n"
     ]
    }
   ],
   "source": [
    "import dependencias\n",
    "from pprint import pprint"
   ]
  },
  {
   "cell_type": "markdown",
   "metadata": {},
   "source": [
    "# La idea"
   ]
  },
  {
   "cell_type": "markdown",
   "metadata": {},
   "source": [
    "La idea de **SENOLLOP** surgió a raíz del Dilema del Prisionero Iterado. Queríamos desarrollar agentes que interactuaran con un entorno más complejo que el DPI. Así, se nos ocurrió empezar a experimentar con el conocido juego Snake.\n",
    "\n",
    "Lo primero que teníamos que crear era el territorio, el lugar donde se moverían nuestras serpientes, y de donde se podría sacar información para que los agentes supieran qué hay en el territorio; lo llamaremos **estado**."
   ]
  },
  {
   "cell_type": "code",
   "execution_count": 7,
   "metadata": {},
   "outputs": [
    {
     "name": "stdout",
     "output_type": "stream",
     "text": [
      "O  * \n",
      "     \n",
      "  *  \n",
      "   * \n",
      "   **\n",
      "\n",
      "[[2. 0. 0. 3. 0.]\n",
      " [0. 0. 0. 0. 0.]\n",
      " [0. 0. 3. 0. 0.]\n",
      " [0. 0. 0. 3. 0.]\n",
      " [0. 0. 0. 3. 3.]]\n"
     ]
    }
   ],
   "source": [
    "estado = dependencias.Game_state(5, (5, 5))\n",
    "print(estado)\n",
    "print(estado.state_matrix())"
   ]
  },
  {
   "cell_type": "markdown",
   "metadata": {},
   "source": [
    "Todos los agentes deben poder reaccionar a todos los estados de modo que dado un agente y un estado se debe generar una jugada."
   ]
  },
  {
   "cell_type": "code",
   "execution_count": 9,
   "metadata": {},
   "outputs": [
    {
     "data": {
      "text/plain": [
       "(0, 1)"
      ]
     },
     "execution_count": 9,
     "metadata": {},
     "output_type": "execute_result"
    }
   ],
   "source": [
    "from dependencias.Agentes.Random_Agent import *\n",
    "\n",
    "agente = RandomAgent()\n",
    "estado = dependencias.Game_state(5, (5, 5))\n",
    "agente.get_action(estado)"
   ]
  },
  {
   "cell_type": "markdown",
   "metadata": {},
   "source": [
    "Cada movimiento es una tupla de la forma (x, y) donde x e y son la diferencia de la posición de la cabeza de la serpiente con la posición de la cabeza de la misma en el siguiente turno.\n",
    "\n",
    "Un game es lo que regula las normas del juego y gestiona todos los elementos, generando y actualizando los game states en función de las normas tradicionales que conocemos del snake original."
   ]
  },
  {
   "cell_type": "code",
   "execution_count": 30,
   "metadata": {},
   "outputs": [],
   "source": [
    "game = dependencias.Snake_game((5, 5), 5, agente)"
   ]
  },
  {
   "cell_type": "markdown",
   "metadata": {},
   "source": [
    "Por último, necesitábamos un entorno de simulaciones, para visualizar los resultados. Tenemos 4 visualizaciones distintas:"
   ]
  },
  {
   "cell_type": "code",
   "execution_count": 31,
   "metadata": {},
   "outputs": [
    {
     "name": "stdout",
     "output_type": "stream",
     "text": [
      "O    \n",
      "  *  \n",
      " *   \n",
      "    *\n",
      " **  \n",
      "\n"
     ]
    }
   ],
   "source": [
    "# Representacion ascii de la partida\n",
    "game.play()"
   ]
  },
  {
   "cell_type": "code",
   "execution_count": 32,
   "metadata": {},
   "outputs": [
    {
     "name": "stderr",
     "output_type": "stream",
     "text": [
      "100%|██████████| 100/100 [00:00<00:00, 33322.51it/s]\n"
     ]
    },
    {
     "data": {
      "text/plain": [
       "{'puntuacion_media': np.float64(1.41),\n",
       " 'puntuacion_maxima': np.int64(6),\n",
       " 'puntuacion_minima': np.int64(1),\n",
       " 'movimientos_medios': np.float64(2.99),\n",
       " 'movimientos_maximos': np.int64(20),\n",
       " 'movimientos_minimos': np.int64(1),\n",
       " 'movimientos por puntuacion': 2,\n",
       " 'proporcion_del_tablero_ocupada': np.float64(0.06)}"
      ]
     },
     "execution_count": 32,
     "metadata": {},
     "output_type": "execute_result"
    }
   ],
   "source": [
    "# Evalúa n partidas y da estadísticas sobre el desempeño del agente\n",
    "game.evaluar()"
   ]
  },
  {
   "cell_type": "code",
   "execution_count": 33,
   "metadata": {},
   "outputs": [
    {
     "name": "stderr",
     "output_type": "stream",
     "text": [
      "100%|██████████| 100/100 [00:00<00:00, 4427.69it/s]\n",
      "100%|██████████| 100/100 [00:00<00:00, 5072.63it/s]"
     ]
    },
    {
     "name": "stdout",
     "output_type": "stream",
     "text": [
      "         Estadisticas          |    Agente 1     |    Agente 2    \n",
      "------------------------------ | --------------- | ---------------\n",
      "puntuacion_media               |      1.06       |   ((*1.06*))   \n",
      "puntuacion_maxima              |     ((*3*))     |        2       \n",
      "puntuacion_minima              |        1        |     ((*1*))    \n",
      "movimientos_medios             |   ((*5.96*))    |      4.99      \n",
      "movimientos_maximos            |    ((*113*))    |       94       \n",
      "movimientos_minimos            |        1        |     ((*1*))    \n",
      "movimientos por puntuacion     |        6        |     ((*5*))    \n",
      "proporcion_del_tablero_ocupada |       0.0       |    ((*0.0*))   \n",
      "------------------------------ | --------------- | ---------------\n"
     ]
    },
    {
     "name": "stderr",
     "output_type": "stream",
     "text": [
      "\n"
     ]
    }
   ],
   "source": [
    "# Un método para comparar dos agentes y decidir cuál es mejor mediante evaluaciones de n partidas\n",
    "\n",
    "agente_2 = RandomAgent()\n",
    "dependencias.enfrentar(agente, agente_2, n_partidas=100)"
   ]
  },
  {
   "cell_type": "code",
   "execution_count": 38,
   "metadata": {},
   "outputs": [],
   "source": [
    "# Una visualización con pygame para ver cómo se comporta el agente en tiempo real\n",
    "game.play_with_pygame()\n",
    "\n",
    "# Puede que se cierre inmediatamente porque el agente es muy malo, ya podremos visualizar partidas más adelante."
   ]
  },
  {
   "cell_type": "markdown",
   "metadata": {},
   "source": [
    "# Agentes"
   ]
  },
  {
   "cell_type": "markdown",
   "metadata": {},
   "source": [
    "<img src=\"media/imagenes/euristicos.png\" style=\"float: right;\">\n",
    "\n",
    "## Agentes Basados en Heurísticas.\n",
    "\n",
    "Los agentes que vamos a enseñar en este apartado son agentes que se basan en una política de recompensa para decidir qué movimiento realizar en cada turno, están implementados mediante una clase abstracta que tiene los siguientes métodos:\n",
    "\n",
    "- get_reward: Calcula la recompensa asociada a cada movimiento en función de una política de recompensa.\n",
    "- get_action: Calcula la mejor acción a realizar en función de la recompensa obtenida.\n",
    "\n",
    "De este modo podemos empezar a jugar con el agente y ver cómo se comporta.<br>\n",
    "A continuación vamos a enseñar los agentes que hemos implementado y cómo se comportan en el juego.\n",
    "\n"
   ]
  },
  {
   "cell_type": "markdown",
   "metadata": {},
   "source": [
    "### Agentes Chaser\n",
    "\n",
    "La política de recompensa de este agente se basa en la distancia entre la cabeza de la serpiente y la comida más cercana, de este modo el agente siempre intentará acercarse a la comida, aunque esto implique que la serpiente se muera.\n",
    "\n",
    "<center><img src=\"media/imagenes/chasser.png\" style=\"float: center;\"></center>"
   ]
  },
  {
   "cell_type": "code",
   "execution_count": 39,
   "metadata": {},
   "outputs": [],
   "source": [
    "agente_chaser = dependencias.Agentes.ChaserAgent()  # Invocamos el agente"
   ]
  },
  {
   "cell_type": "code",
   "execution_count": 41,
   "metadata": {},
   "outputs": [],
   "source": [
    "# Ejecuta esta celda para ver cómo se comporta el agente en distintos escenarios. Puedes modificar los parámetros del juego.\n",
    "\n",
    "SIZE = (15, 15)\n",
    "N_FOODS = 5\n",
    "\n",
    "game = dependencias.Snake_game(SIZE, N_FOODS, agente_chaser)\n",
    "game.play_with_pygame()"
   ]
  },
  {
   "cell_type": "code",
   "execution_count": null,
   "metadata": {},
   "outputs": [
    {
     "name": "stderr",
     "output_type": "stream",
     "text": [
      "100%|██████████| 100/100 [00:00<00:00, 1522.94it/s]"
     ]
    },
    {
     "name": "stdout",
     "output_type": "stream",
     "text": [
      "{'movimientos por puntuacion': 4,\n",
      " 'movimientos_maximos': np.int64(115),\n",
      " 'movimientos_medios': np.float64(29.64),\n",
      " 'movimientos_minimos': np.int64(6),\n",
      " 'proporcion_del_tablero_ocupada': 0.01,\n",
      " 'puntuacion_maxima': np.int64(23),\n",
      " 'puntuacion_media': np.float64(6.81),\n",
      " 'puntuacion_minima': np.int64(3)}\n"
     ]
    },
    {
     "name": "stderr",
     "output_type": "stream",
     "text": [
      "\n"
     ]
    }
   ],
   "source": [
    "estadisticas = game.evaluar()\n",
    "pprint(estadisticas)"
   ]
  },
  {
   "cell_type": "markdown",
   "metadata": {},
   "source": [
    "### Conclusiones\n",
    "\n",
    "Este agente logra su objetivo de llegar muy rapido a por la comida (movimientos por puntuacion), pero no consigue sobrevivir mucho tiempo.\n",
    "\n",
    "### Mejoras\n",
    "\n",
    "Este agente podría ser mejorado si se le añade una penalización por muerte inmediata."
   ]
  },
  {
   "cell_type": "markdown",
   "metadata": {},
   "source": [
    "## Agentes Avoider\n",
    "\n",
    "La politica de recompensa de este agente se basa en evitar las muertes inediatas, ya sea contra la serpriente o contra las paredes, asociando una penalización a estos movimientos.\n",
    "\n",
    "<center><img src=\"media/imagenes/inminent.png\" style=\"float: center;\"></center>"
   ]
  },
  {
   "cell_type": "code",
   "execution_count": null,
   "metadata": {},
   "outputs": [],
   "source": [
    "agente_avoider = dependencias.Agentes.Avoid_inmediate_death()"
   ]
  },
  {
   "cell_type": "code",
   "execution_count": null,
   "metadata": {},
   "outputs": [],
   "source": [
    "# Ejecuta esta celda para ver como se comporta el agente\n",
    "SIZE = (15, 15)\n",
    "N_FOODS = 5\n",
    "\n",
    "game = dependencias.Snake_game(SIZE, N_FOODS, agente_avoider)\n",
    "game.play_with_pygame()"
   ]
  },
  {
   "cell_type": "code",
   "execution_count": null,
   "metadata": {},
   "outputs": [
    {
     "name": "stderr",
     "output_type": "stream",
     "text": [
      "100%|██████████| 100/100 [00:00<00:00, 367.70it/s]"
     ]
    },
    {
     "name": "stdout",
     "output_type": "stream",
     "text": [
      "{'movimientos por puntuacion': 63,\n",
      " 'movimientos_maximos': np.int64(1379),\n",
      " 'movimientos_medios': np.float64(634.02),\n",
      " 'movimientos_minimos': np.int64(175),\n",
      " 'proporcion_del_tablero_ocupada': 0.04,\n",
      " 'puntuacion_maxima': np.int64(17),\n",
      " 'puntuacion_media': np.float64(10.13),\n",
      " 'puntuacion_minima': np.int64(5)}\n"
     ]
    },
    {
     "name": "stderr",
     "output_type": "stream",
     "text": [
      "\n"
     ]
    }
   ],
   "source": [
    "estadisticas = game.evaluar()\n",
    "pprint(estadisticas)"
   ]
  },
  {
   "cell_type": "markdown",
   "metadata": {},
   "source": [
    "### Conclusiones\n",
    "\n",
    "Este agente majora mucho su tiempo de vida, pero no consigue alcanzar la comida de manera eficiente.\n",
    "\n",
    "### Mejoras\n",
    "\n",
    "Ademas vemos que con evitar muertes inmediatas no es suficiente, puesto que hay escenarios en los que te puedes quedar encerrado."
   ]
  },
  {
   "cell_type": "markdown",
   "metadata": {},
   "source": [
    "\n",
    "\n",
    "## Combinacion de agentes\n",
    "\n",
    "Esta implementation de los agentes tan particular, nos permite combinar las recompensas que le dan a cada movimiento distintos agentes para conseguir un agente que se comporte de una manera más eficiente.\n",
    "\n",
    "<img src=\"media/imagenes/combinado.png\" style=\"display: block; margin: auto;\" width=\"400\">\n",
    "\n"
   ]
  },
  {
   "cell_type": "code",
   "execution_count": null,
   "metadata": {},
   "outputs": [],
   "source": [
    "chouder = dependencias.Agentes.Combined_agent((agente_avoider, agente_chaser), (1, 0.5))"
   ]
  },
  {
   "cell_type": "code",
   "execution_count": null,
   "metadata": {},
   "outputs": [],
   "source": [
    "# Ejecuta esta celda para ver como se comporta el agente\n",
    "game = dependencias.Snake_game((15, 15), 5, chouder)\n",
    "game.play_with_pygame()"
   ]
  },
  {
   "cell_type": "code",
   "execution_count": null,
   "metadata": {},
   "outputs": [
    {
     "name": "stderr",
     "output_type": "stream",
     "text": [
      "100%|██████████| 100/100 [00:00<00:00, 207.17it/s]"
     ]
    },
    {
     "name": "stdout",
     "output_type": "stream",
     "text": [
      "{'movimientos por puntuacion': 5,\n",
      " 'movimientos_maximos': np.int64(401),\n",
      " 'movimientos_medios': np.float64(179.84),\n",
      " 'movimientos_minimos': np.int64(34),\n",
      " 'proporcion_del_tablero_ocupada': 0.14,\n",
      " 'puntuacion_maxima': np.int64(73),\n",
      " 'puntuacion_media': np.float64(33.59),\n",
      " 'puntuacion_minima': np.int64(10)}\n"
     ]
    },
    {
     "name": "stderr",
     "output_type": "stream",
     "text": [
      "\n"
     ]
    }
   ],
   "source": [
    "estadisticas = game.evaluar()\n",
    "pprint(estadisticas)"
   ]
  },
  {
   "cell_type": "markdown",
   "metadata": {},
   "source": [
    "### Conclusiones\n",
    "\n",
    "El comportaiento de este agente es mucho mejor que el de los agentes individuales, y parece una buena estrategia para el inicio del juego.\n",
    "\n",
    "### Mejoras\n",
    "\n",
    "El agente sigue sin ser capaz de evitar quedarse encerrado, hay que añadir una heuristica mas a futuro para evitar este tipo de situaciones.\n",
    "\n",
    "<img src=\"media/imagenes/encerrado.png\" style=\"display: block; margin: auto;\" width=\"400\">\n",
    "\n",
    "*en el ejemplo moverse a la derecha provoca una muerte inevitable pero el agente no lo considera una mala jugada*"
   ]
  },
  {
   "cell_type": "markdown",
   "metadata": {},
   "source": [
    "## Politicas basadas en busqueda en anchura (Estrategias a largo plazo)"
   ]
  },
  {
   "cell_type": "markdown",
   "metadata": {},
   "source": [
    "para hacer decisiones a largo plazo se nos plantean dos opciones.\n",
    "\n",
    "- Fuerza bruta (Exploracion en estados): podemos ver a donde nos lleva una combinacion de movimientos y ver cual es mejor.\n",
    "\n",
    "problema: el espacio de estados es muy grande y no podemos explorar todas las posibilidades, tendriamos que seleccionar una profundidad maxima y explorar hasta ahi. Además relentizaria cada simulacion.\n",
    "\n",
    "- Busqueda en anchura: Lanzando busqueda en anchura desde los movimientos posibles en cada turno podemos ver cual es el mejor movimiento a largo plazo, evaluando algunas caracteristicas del tablero.\n",
    "\n",
    "A continuacion desarrollamos agentes basados en busqueda en anchura, para solucionar probleas de muerte a largo plazo."
   ]
  },
  {
   "cell_type": "markdown",
   "metadata": {},
   "source": [
    "## Agentes Searcher\n",
    "\n",
    "Este agente lanza 3 busquedas en anchura, empezando en cada una las casillas accedibles en el siguiente movimiento, aprovecha para contar el numer de casillas accesibles en cada caso y asigna una puntuacion a cada movimiento en funcion de este valor.\n",
    "\n",
    "<div style=\"text-align: center;\">\n",
    "$$\n",
    "W = \\frac{\\text{casillas accesibles en el movimiento } m}{\\text{total casillas accesibles}}\n",
    "$$\n",
    "</div>\n",
    "\n",
    "*De este modo premiamos los movimientos que te llevan a los espacios abiertos*\n"
   ]
  },
  {
   "cell_type": "markdown",
   "metadata": {},
   "source": [
    "<img src=\"<img src=\"media/imagenes/searcher.png\" style=\"display: block; margin: auto;\" width=\"400\">"
   ]
  },
  {
   "cell_type": "code",
   "execution_count": null,
   "metadata": {},
   "outputs": [],
   "source": [
    "agente_searcher = dependencias.Agentes.Busqueda_anchura()\n",
    "game = dependencias.Snake_game((15, 15), 5, agente_searcher)"
   ]
  },
  {
   "cell_type": "code",
   "execution_count": null,
   "metadata": {},
   "outputs": [],
   "source": [
    "# Ejecuta esta celda para ver como se comporta el agente\n",
    "\n",
    "game.play_with_pygame()"
   ]
  },
  {
   "cell_type": "markdown",
   "metadata": {},
   "source": [
    "A continuacion definimos una mezcla de los 3 agentes anteriores, para ver como se comporta en el juego."
   ]
  },
  {
   "cell_type": "code",
   "execution_count": null,
   "metadata": {},
   "outputs": [],
   "source": [
    "agente_searcher = dependencias.Agentes.Busqueda_anchura()\n",
    "agente_avoider = dependencias.Agentes.Avoid_inmediate_death()\n",
    "agente_chaser = dependencias.Agentes.ChaserAgent()\n",
    "\n",
    "deep_chouder = dependencias.Agentes.Combined_agent((agente_avoider, agente_chaser, agente_searcher), (1, 0.2, 3))\n",
    "game = dependencias.Snake_game((15, 15), 5, deep_chouder)"
   ]
  },
  {
   "cell_type": "code",
   "execution_count": null,
   "metadata": {},
   "outputs": [],
   "source": [
    "# Ejecuta esta celda para ver como se comporta el agente\n",
    "\n",
    "game.play_with_pygame()"
   ]
  },
  {
   "cell_type": "markdown",
   "metadata": {},
   "source": [
    "#### Comportamiento del agente\n",
    "\n",
    "- El comportamiento de este agente es muy bueno, consigue sobrevivir mucho tiempo y llegar a la comida de manera eficiente, además cuando se queda encerrado sigue opcupando espacio hasta generar una salida y una vez existe es capaz de escapar generando muchas huidas interesantes."
   ]
  },
  {
   "cell_type": "code",
   "execution_count": null,
   "metadata": {},
   "outputs": [
    {
     "name": "stderr",
     "output_type": "stream",
     "text": [
      "100%|██████████| 100/100 [01:12<00:00,  1.39it/s]\n",
      "100%|██████████| 100/100 [00:00<00:00, 218.12it/s]"
     ]
    },
    {
     "name": "stdout",
     "output_type": "stream",
     "text": [
      "         Estadisticas          |    Agente 1     |    Agente 2    \n",
      "------------------------------ | --------------- | ---------------\n",
      "puntuacion_media               |   ((*78.64*))   |      32.42     \n",
      "puntuacion_maxima              |    ((*119*))    |       61       \n",
      "puntuacion_minima              |    ((*50*))     |       10       \n",
      "movimientos_medios             |  ((*544.43*))   |     175.77     \n",
      "movimientos_maximos            |   ((*1038*))    |       355      \n",
      "movimientos_minimos            |    ((*325*))    |       40       \n",
      "movimientos por puntuacion     |        7        |     ((*5*))    \n",
      "proporcion_del_tablero_ocupada |   ((*0.27*))    |      0.16      \n",
      "------------------------------ | --------------- | ---------------\n"
     ]
    },
    {
     "name": "stderr",
     "output_type": "stream",
     "text": [
      "\n"
     ]
    }
   ],
   "source": [
    "# lo comparamos con el agente que desarrollamos antes.\n",
    "# Esta celda puede tardar un poco en ejecutarse se recomienda siplemente mirar los resultados.\n",
    "\n",
    "dependencias.enfrentar(deep_chouder, chouder, n_partidas=100)"
   ]
  },
  {
   "cell_type": "markdown",
   "metadata": {},
   "source": [
    "Estas estaditicas muestran que deep_chouder es un agente mucho mejor que chouder, consigue sobrevivir mucho mas tiempo y llegar a mas comida. Sin embargo logicamente chouder es as eficiente y crece mas rapido."
   ]
  },
  {
   "cell_type": "markdown",
   "metadata": {},
   "source": [
    "### Conclusiones\n",
    "\n",
    "deep_chouder es sustancialente mejor que chouder, sin cuando la partida alcanza una catidad alta de comida, surge un problema. Como todo esta tan lleno, el agente prefiere quedarse encerrado cuando en realidad claramente lo lleva a morir.\n",
    "\n",
    "A continuacion vamos a desarrollar con busqueda en anchuera que cumpla el mismo objetivo que este a partir de otra idea que hemos tenido."
   ]
  },
  {
   "cell_type": "markdown",
   "metadata": {},
   "source": [
    "## Agentes Tail Chasser\n",
    "\n",
    "Este agente se basa en la idea de que si el agente tiene acceso a la cola entonces puede crear un ciclo, de modo que el agente mientras no se salga del ciclo puede seguir vivo infinitamente. Parece que encontrar coida en este ciclo da problemas, pero no es el caso, para el caso mas extremo en el que tienes una comida y inmediatamente despues la cola, el agente come y se pega a la cola, pero no llega nunca a chocarse puesto que ocupar el espacio que ocupaba la cola en el espacio anterior es un movimiento valido. (El agente presente este comportamiento en la practica muchas veces), Etonces lanzareos busqueda en anchura y premiaremos los movimientos que nos permitan llegar a la cola."
   ]
  },
  {
   "cell_type": "markdown",
   "metadata": {},
   "source": [
    "\n",
    "\n",
    "<div style=\"text-align: center;\">\n",
    "    <img src=\"media/imagenes/aclaracion.png\" style=\"display: inline-block; margin: auto;\" width=\"250\">\n",
    "    <img src=\"media/imagenes/tail_chasser.png\" style=\"display: inline-block; margin: auto;\" width=\"250\">\n",
    "</div>\n",
    "\n",
    "- *aclarar que en la imagen 1 el movimiento arriba es valido ya que la cola tambien se mueve*\n",
    "*Vemos como si tienes acceso a la cola entonces no te puedes quedar encerrado*"
   ]
  },
  {
   "cell_type": "code",
   "execution_count": null,
   "metadata": {},
   "outputs": [],
   "source": [
    "tail_chasser = dependencias.Agentes.Tail_Chasser()\n",
    "game = dependencias.Snake_game((15, 15), 5, tail_chasser)"
   ]
  },
  {
   "cell_type": "code",
   "execution_count": null,
   "metadata": {},
   "outputs": [],
   "source": [
    "# Ejecuta esta celda para ver como se comporta el agente\n",
    "\n",
    "game.play_with_pygame() # Esta estrategia solo se puede ver si la serpiente es suficientemente larga por lo que tardara en mostrar coportamientos interesantes por si sola"
   ]
  },
  {
   "cell_type": "markdown",
   "metadata": {},
   "source": [
    "vamos a incorporar esta estrategia a deep_chouder para ver como se comporta."
   ]
  },
  {
   "cell_type": "code",
   "execution_count": null,
   "metadata": {},
   "outputs": [],
   "source": [
    "agente_avoider = dependencias.Agentes.Avoid_inmediate_death()\n",
    "agente_chaser = dependencias.Agentes.ChaserAgent()\n",
    "agente_tail_chasser = dependencias.Agentes.Tail_Chasser()\n",
    "agente_searcher = dependencias.Agentes.Busqueda_anchura()\n",
    "\n",
    "deep_loopy_looper = dependencias.Agentes.Combined_agent((agente_avoider,\n",
    "                                                         agente_chaser,\n",
    "                                                         agente_searcher,\n",
    "                                                         agente_tail_chasser),\n",
    "                                                        \n",
    "                                                        (1, 0.2, 2, 1))\n",
    "\n",
    "game = dependencias.Snake_game((15, 15), 5, deep_loopy_looper)"
   ]
  },
  {
   "cell_type": "code",
   "execution_count": null,
   "metadata": {},
   "outputs": [],
   "source": [
    "# Ejecuta esta celda para ver como se comporta el agente\n",
    "\n",
    "game.play_with_pygame()"
   ]
  },
  {
   "cell_type": "code",
   "execution_count": null,
   "metadata": {},
   "outputs": [
    {
     "name": "stderr",
     "output_type": "stream",
     "text": [
      "100%|██████████| 100/100 [02:02<00:00,  1.22s/it]\n",
      "100%|██████████| 100/100 [01:12<00:00,  1.39it/s]"
     ]
    },
    {
     "name": "stdout",
     "output_type": "stream",
     "text": [
      "         Estadisticas          |    Agente 1     |    Agente 2    \n",
      "------------------------------ | --------------- | ---------------\n",
      "puntuacion_media               |   ((*88.42*))   |      79.88     \n",
      "puntuacion_maxima              |    ((*140*))    |       114      \n",
      "puntuacion_minima              |       52        |    ((*53*))    \n",
      "movimientos_medios             |  ((*633.37*))   |     548.53     \n",
      "movimientos_maximos            |   ((*1206*))    |       903      \n",
      "movimientos_minimos            |    ((*346*))    |       343      \n",
      "movimientos por puntuacion     |        7        |     ((*7*))    \n",
      "proporcion_del_tablero_ocupada |   ((*0.44*))    |      0.24      \n",
      "------------------------------ | --------------- | ---------------\n"
     ]
    },
    {
     "name": "stderr",
     "output_type": "stream",
     "text": [
      "\n"
     ]
    }
   ],
   "source": [
    "dependencias.enfrentar(deep_loopy_looper, deep_chouder, n_partidas=100)\n",
    "\n",
    "# Esta celda tara un poco en ejecutar, se recomienda simplemente mirar los resultados."
   ]
  },
  {
   "cell_type": "markdown",
   "metadata": {},
   "source": []
  },
  {
   "cell_type": "markdown",
   "metadata": {},
   "source": [
    "Deep_loopy_looper se coloca se coloca en cabeza puesto que es en general mejor que deep_chouder."
   ]
  },
  {
   "cell_type": "markdown",
   "metadata": {},
   "source": [
    "### Observacion\n",
    "\n",
    "*Este tipo de agentes parece que mueren consistentemente cuando desovedecen la politica de tail_chasser, parece buena idea darle mucho peso, sin embargo esto puede dar lugar a bucles infinitos, que hasta hora no estan gestionados.*\n",
    "\n",
    "\n",
    "<img src=\"media/imagenes/vacio.png\" style=\"display: block; margin: auto;\" width=\"200\">\n",
    "\n",
    "*Además este agente recubre aproximadamente la mitad de del tablero pero la eficiencia de este empaquetando es bastante mala, quizás podramos implementar una politica rellene mejor los espacios*"
   ]
  },
  {
   "cell_type": "markdown",
   "metadata": {},
   "source": [
    "## Filler\n",
    "\n",
    "Esta politica, se basa en premiar los movimientos que tangan partes de la serpiente adyacentes, de este modo se elegiran menos movimientos que separan a la serpiente demasiado a no ser que esto este justificado por otras politicas.\n",
    "\n"
   ]
  },
  {
   "cell_type": "code",
   "execution_count": null,
   "metadata": {},
   "outputs": [],
   "source": [
    "filler = dependencias.Agentes.Filler()\n",
    "\n",
    "# No tiene mucho sentido a estas alturas probar los agentes por separado, vamos a generan una cobinacion."
   ]
  },
  {
   "cell_type": "code",
   "execution_count": null,
   "metadata": {},
   "outputs": [
    {
     "ename": "SyntaxError",
     "evalue": "closing parenthesis ')' does not match opening parenthesis '{' on line 258 (juego_base.py, line 266)",
     "output_type": "error",
     "traceback": [
      "Traceback \u001b[1;36m(most recent call last)\u001b[0m:\n",
      "\n",
      "\u001b[0m  File \u001b[0;32m~\\AppData\\Roaming\\Python\\Python312\\site-packages\\IPython\\core\\interactiveshell.py:3577\u001b[0m in \u001b[0;35mrun_code\u001b[0m\n",
      "    exec(code_obj, self.user_global_ns, self.user_ns)\u001b[0m\n",
      "\n",
      "\u001b[0m  Cell \u001b[0;32mIn[1], line 1\u001b[0m\n",
      "    import dependencias\u001b[0m\n",
      "\n",
      "\u001b[1;36m  File \u001b[1;32m~\\Desktop\\test\\practica_3_ALN\\dependencias\\__init__.py:1\u001b[1;36m\n",
      "\u001b[1;33m    from dependencias.juego_base import *\u001b[1;36m\n",
      "\n",
      "\u001b[1;36m  File \u001b[1;32m~\\Desktop\\test\\practica_3_ALN\\dependencias\\juego_base.py:266\u001b[1;36m\u001b[0m\n",
      "\u001b[1;33m    \"proporcion_del_tablero_ocupada\" : round(np.mean(puntuaciones), 2) / (self.state.shape[0] * self.state.shape[1]), 2)\u001b[0m\n",
      "\u001b[1;37m                                                                                                                       ^\u001b[0m\n",
      "\u001b[1;31mSyntaxError\u001b[0m\u001b[1;31m:\u001b[0m closing parenthesis ')' does not match opening parenthesis '{' on line 258\n"
     ]
    }
   ],
   "source": [
    "import dependencias"
   ]
  },
  {
   "cell_type": "code",
   "execution_count": null,
   "metadata": {},
   "outputs": [],
   "source": [
    "agente_avoider = dependencias.Agentes.Avoid_inmediate_death()\n",
    "agente_chaser = dependencias.Agentes.ChaserAgent()\n",
    "agente_tail_chasser = dependencias.Agentes.Tail_Chasser()\n",
    "agente_searcher = dependencias.Agentes.Busqueda_anchura()\n",
    "filler = dependencias.Agentes.Filler()\n",
    "\n",
    "filete = dependencias.Agentes.Combined_agent((           agente_avoider,\n",
    "                                                         agente_chaser,\n",
    "                                                         agente_searcher,\n",
    "                                                         agente_tail_chasser,\n",
    "                                                         filler),\n",
    "                                                        \n",
    "                                                        (1, 0.3, 2, 0.5, 0.3))\n",
    "\n",
    "game = dependencias.Snake_game((15, 15), 5, filete)"
   ]
  },
  {
   "cell_type": "code",
   "execution_count": null,
   "metadata": {},
   "outputs": [],
   "source": [
    "# Ejecuta esta celda para ver como se comporta el agente\n",
    "\n",
    "game.play_with_pygame()"
   ]
  },
  {
   "cell_type": "code",
   "execution_count": null,
   "metadata": {},
   "outputs": [
    {
     "name": "stderr",
     "output_type": "stream",
     "text": [
      "100%|██████████| 10/10 [00:18<00:00,  1.83s/it]\n",
      "100%|██████████| 10/10 [00:11<00:00,  1.13s/it]"
     ]
    },
    {
     "name": "stdout",
     "output_type": "stream",
     "text": [
      "         Estadisticas          |    Agente 1     |    Agente 2    \n",
      "------------------------------ | --------------- | ---------------\n",
      "puntuacion_media               |   ((*97.0*))    |      87.6      \n",
      "puntuacion_maxima              |       110       |    ((*115*))   \n",
      "puntuacion_minima              |    ((*74*))     |       67       \n",
      "movimientos_medios             |   ((*911.9*))   |      622.6     \n",
      "movimientos_maximos            |   ((*1196*))    |       845      \n",
      "movimientos_minimos            |    ((*706*))    |       454      \n",
      "movimientos por puntuacion     |        9        |     ((*7*))    \n",
      "proporcion_del_tablero_ocupada |   ((*0.43*))    |      0.39      \n",
      "------------------------------ | --------------- | ---------------\n"
     ]
    },
    {
     "name": "stderr",
     "output_type": "stream",
     "text": [
      "\n"
     ]
    }
   ],
   "source": [
    "dependencias.enfrentar(filete, deep_loopy_looper, n_partidas=10)"
   ]
  },
  {
   "cell_type": "markdown",
   "metadata": {},
   "source": [
    "Parece que filete se comporta mejor que deep_loopy_looper, pero de nuevo da problemas con tema bucles y conflictos con chasser, por lo tanto lo siguiente que haremos es implementar una politica para evitar ciclos.\n",
    "\n",
    "<img src=\"media/imagenes/filete.png\" style=\"display: block; margin: auto;\" width=\"200\">\n",
    "\n",
    "*Lo que si que es muy prometedor es observar como se comporta el agente, claramente es campaz de gestionar mejor el espacio.*"
   ]
  },
  {
   "cell_type": "markdown",
   "metadata": {},
   "source": [
    "## Cycle_detector\n",
    "\n",
    "Esta politica no hace nada hasta que detecta que la serpiente ha completado un ciclo identico (dos subsecuecias identicas en las secuencias de movimientos), a continuacion añadimos premios con el objetivo de salir del ciclo si ocurre dejaremos de premiar de nuevo. Una vez se detecta el bucle tenemos dos maneras de continuar:\n",
    "\n",
    "- (matar al agente) -> Premiando cualquier movimiento el agente termina movimiento, esto nos permite diseñar estrategias con riesgo de quedarse en bucle, y que no se queden en bucle, sin embargo dara lugar a partidas atipicas a las que se llegue a un bucle al principio y el agente muera.\n",
    "\n",
    "- (premiar searcher y añadir aleatoriedad) -> Hemos observado que searcher es eficaz saliendo de bucles ya que nos llevara a una casilla que aparentemente sera segura, esto es mas costoso, veremos si merece la pena.\n",
    "\n",
    "vamoa a implementar ambas estrategias y acompararlas."
   ]
  },
  {
   "cell_type": "code",
   "execution_count": null,
   "metadata": {},
   "outputs": [],
   "source": [
    "import dependencias\n",
    "\n",
    "import dependencias\n",
    "\n",
    "agente_avoider = dependencias.Agentes.Avoid_inmediate_death()\n",
    "agente_chaser = dependencias.Agentes.ChaserAgent()\n",
    "agente_tail_chasser = dependencias.Agentes.Tail_Chasser()\n",
    "agente_searcher = dependencias.Agentes.Busqueda_anchura()\n",
    "filler = dependencias.Agentes.Filler()\n",
    "cycle_detector = dependencias.Agentes.Cycle_detector(avoid_skipable_loops=False)\n",
    "cycle_destroyer = dependencias.Agentes.Cycle_detector(avoid_skipable_loops=True)\n",
    "\n",
    "senollop = dependencias.Agentes.Combined_agent(\n",
    "    agentes=(agente_tail_chasser,\n",
    "             agente_chaser,\n",
    "             agente_avoider,\n",
    "             filler,\n",
    "             agente_searcher,\n",
    "             cycle_destroyer), \n",
    "    weights=(10, 0.5, 0.55, 0.05, 0, 100))\n",
    "\n",
    "fileton = dependencias.Agentes.Combined_agent(\n",
    "    agentes=(agente_tail_chasser,\n",
    "             agente_chaser,\n",
    "             agente_avoider,\n",
    "             filler,\n",
    "             agente_searcher,\n",
    "             cycle_detector), \n",
    "    weights=(10, 0.5, 0.55, 0.05, 0, 100))"
   ]
  },
  {
   "cell_type": "code",
   "execution_count": null,
   "metadata": {},
   "outputs": [
    {
     "name": "stderr",
     "output_type": "stream",
     "text": [
      "100%|██████████| 50/50 [02:36<00:00,  3.13s/it]\n",
      "100%|██████████| 50/50 [01:59<00:00,  2.38s/it]"
     ]
    },
    {
     "name": "stdout",
     "output_type": "stream",
     "text": [
      "         Estadisticas          |    Agente 1     |    Agente 2    \n",
      "------------------------------ | --------------- | ---------------\n",
      "puntuacion_media               |  ((*216.58*))   |     210.48     \n",
      "puntuacion_maxima              |    ((*223*))    |       222      \n",
      "puntuacion_minima              |    ((*202*))    |       20       \n",
      "movimientos_medios             | ((*12507.58*))  |     3599.86    \n",
      "movimientos_maximos            |   ((*43919*))   |      6488      \n",
      "movimientos_minimos            |   ((*2896*))    |       151      \n",
      "movimientos por puntuacion     |       58        |    ((*17*))    \n",
      "proporcion_del_tablero_ocupada |   ((*0.96*))    |      0.94      \n",
      "------------------------------ | --------------- | ---------------\n"
     ]
    },
    {
     "name": "stderr",
     "output_type": "stream",
     "text": [
      "\n"
     ]
    }
   ],
   "source": [
    "dependencias.enfrentar(senollop, fileton, n_partidas=50)"
   ]
  },
  {
   "cell_type": "raw",
   "metadata": {},
   "source": [
    "como se puede ver avoid_skipable_loops=True mejora el comportaiento el los loops que se producen al principio de la partida mejorando imposibilitando las muertes preaturas."
   ]
  },
  {
   "cell_type": "markdown",
   "metadata": {},
   "source": [
    "## Senollop"
   ]
  },
  {
   "cell_type": "markdown",
   "metadata": {},
   "source": [
    "con la misma idea que antes vamos a ajustar los hiperparametros de los agentes para conseguir el agente definitivo."
   ]
  },
  {
   "cell_type": "code",
   "execution_count": null,
   "metadata": {},
   "outputs": [
    {
     "name": "stdout",
     "output_type": "stream",
     "text": [
      "pygame 2.6.1 (SDL 2.28.4, Python 3.12.1)\n",
      "Hello from the pygame community. https://www.pygame.org/contribute.html\n"
     ]
    }
   ],
   "source": [
    "import dependencias\n",
    "\n",
    "agente_avoider = dependencias.Agentes.Avoid_inmediate_death()\n",
    "agente_chaser = dependencias.Agentes.ChaserAgent()\n",
    "agente_tail_chasser = dependencias.Agentes.Tail_Chasser()\n",
    "agente_searcher = dependencias.Agentes.Busqueda_anchura()\n",
    "filler = dependencias.Agentes.Filler()\n",
    "cycle_detector = dependencias.Agentes.Cycle_detector(avoid_skipable_loops=False)\n",
    "cycle_destroyer = dependencias.Agentes.Cycle_detector(avoid_skipable_loops=True)\n",
    "\n",
    "senollop = dependencias.Agentes.Combined_agent(\n",
    "    agentes=(agente_tail_chasser, agente_chaser, agente_avoider, filler, agente_searcher, cycle_destroyer), weights=(10, 0.5, 0.55, 0.05, 0, 100))\n",
    "\n",
    "game = dependencias.Snake_game((15, 15), 5, senollop)"
   ]
  },
  {
   "cell_type": "code",
   "execution_count": null,
   "metadata": {},
   "outputs": [],
   "source": [
    "# Ejecuta esta celda para ver como se comporta el agente\n",
    "\n",
    "game.play_with_pygame()"
   ]
  },
  {
   "cell_type": "code",
   "execution_count": null,
   "metadata": {},
   "outputs": [
    {
     "name": "stderr",
     "output_type": "stream",
     "text": [
      "100%|██████████| 100/100 [03:53<00:00,  2.33s/it]\n"
     ]
    },
    {
     "data": {
      "text/plain": [
       "{'puntuacion_media': np.float64(208.73),\n",
       " 'puntuacion_maxima': np.int64(224),\n",
       " 'puntuacion_minima': np.int64(10),\n",
       " 'movimientos_medios': np.float64(3733.93),\n",
       " 'movimientos_maximos': np.int64(5154),\n",
       " 'movimientos_minimos': np.int64(54),\n",
       " 'movimientos por puntuacion': 18,\n",
       " 'proporcion_del_tablero_ocupada': np.float64(0.93)}"
      ]
     },
     "metadata": {},
     "output_type": "display_data"
    }
   ],
   "source": [
    "game.evaluar()"
   ]
  },
  {
   "cell_type": "markdown",
   "metadata": {},
   "source": [
    "# Hemos Ganao?"
   ]
  },
  {
   "cell_type": "markdown",
   "metadata": {},
   "source": [
    "vamos simplemente a hacer algunas pruebas con para ver los resultados finales"
   ]
  },
  {
   "cell_type": "markdown",
   "metadata": {},
   "source": [
    "## Tablero 5 x 5"
   ]
  },
  {
   "cell_type": "code",
   "execution_count": null,
   "metadata": {},
   "outputs": [],
   "source": [
    "game_1 = dependencias.Snake_game((5, 5), 5, senollop)"
   ]
  },
  {
   "cell_type": "code",
   "execution_count": null,
   "metadata": {},
   "outputs": [],
   "source": [
    "# Ejecuta esta celda para ver como se comporta el agente\n",
    "\n",
    "game_1.play_with_pygame()"
   ]
  },
  {
   "cell_type": "code",
   "execution_count": null,
   "metadata": {},
   "outputs": [
    {
     "name": "stderr",
     "output_type": "stream",
     "text": [
      " 35%|███▌      | 35/100 [00:00<00:00, 170.56it/s]"
     ]
    },
    {
     "name": "stdout",
     "output_type": "stream",
     "text": [
      "SENOLLOP HA GANADO GRACIAS POR JUGAR\n",
      "SENOLLOP HA GANADO GRACIAS POR JUGAR\n",
      "SENOLLOP HA GANADO GRACIAS POR JUGAR\n",
      "SENOLLOP HA GANADO GRACIAS POR JUGAR\n",
      "SENOLLOP HA GANADO GRACIAS POR JUGAR\n",
      "SENOLLOP HA GANADO GRACIAS POR JUGAR\n",
      "SENOLLOP HA GANADO GRACIAS POR JUGAR\n",
      "SENOLLOP HA GANADO GRACIAS POR JUGAR\n",
      "SENOLLOP HA GANADO GRACIAS POR JUGAR\n",
      "SENOLLOP HA GANADO GRACIAS POR JUGAR\n",
      "SENOLLOP HA GANADO GRACIAS POR JUGAR\n",
      "SENOLLOP HA GANADO GRACIAS POR JUGAR\n",
      "SENOLLOP HA GANADO GRACIAS POR JUGAR\n",
      "SENOLLOP HA GANADO GRACIAS POR JUGAR\n",
      "SENOLLOP HA GANADO GRACIAS POR JUGAR\n",
      "SENOLLOP HA GANADO GRACIAS POR JUGAR\n",
      "SENOLLOP HA GANADO GRACIAS POR JUGAR\n"
     ]
    },
    {
     "name": "stderr",
     "output_type": "stream",
     "text": [
      " 70%|███████   | 70/100 [00:00<00:00, 166.90it/s]"
     ]
    },
    {
     "name": "stdout",
     "output_type": "stream",
     "text": [
      "SENOLLOP HA GANADO GRACIAS POR JUGAR\n",
      "SENOLLOP HA GANADO GRACIAS POR JUGAR\n",
      "SENOLLOP HA GANADO GRACIAS POR JUGAR\n",
      "SENOLLOP HA GANADO GRACIAS POR JUGAR\n",
      "SENOLLOP HA GANADO GRACIAS POR JUGAR\n",
      "SENOLLOP HA GANADO GRACIAS POR JUGAR\n",
      "SENOLLOP HA GANADO GRACIAS POR JUGAR\n",
      "SENOLLOP HA GANADO GRACIAS POR JUGAR\n",
      "SENOLLOP HA GANADO GRACIAS POR JUGAR\n"
     ]
    },
    {
     "name": "stderr",
     "output_type": "stream",
     "text": [
      "100%|██████████| 100/100 [00:00<00:00, 163.66it/s]"
     ]
    },
    {
     "name": "stdout",
     "output_type": "stream",
     "text": [
      "SENOLLOP HA GANADO GRACIAS POR JUGAR\n",
      "SENOLLOP HA GANADO GRACIAS POR JUGAR\n",
      "SENOLLOP HA GANADO GRACIAS POR JUGAR\n",
      "SENOLLOP HA GANADO GRACIAS POR JUGAR\n"
     ]
    },
    {
     "name": "stderr",
     "output_type": "stream",
     "text": [
      "\n"
     ]
    },
    {
     "data": {
      "text/plain": [
       "{'puntuacion_media': np.float64(23.68),\n",
       " 'puntuacion_maxima': np.int64(25),\n",
       " 'puntuacion_minima': np.int64(18),\n",
       " 'movimientos_medios': np.float64(94.95),\n",
       " 'movimientos_maximos': np.int64(126),\n",
       " 'movimientos_minimos': np.int64(65),\n",
       " 'movimientos por puntuacion': 4,\n",
       " 'proporcion_del_tablero_ocupada': np.float64(0.95)}"
      ]
     },
     "metadata": {},
     "output_type": "display_data"
    }
   ],
   "source": [
    "game_1.evaluar()"
   ]
  },
  {
   "cell_type": "markdown",
   "metadata": {},
   "source": [
    "Este tablero lo gana muy amenudo y tiene resultados optimos."
   ]
  },
  {
   "cell_type": "markdown",
   "metadata": {},
   "source": [
    "## Tablero 10 x 10"
   ]
  },
  {
   "cell_type": "code",
   "execution_count": null,
   "metadata": {},
   "outputs": [],
   "source": [
    "game_2 = dependencias.Snake_game((10, 10), 5, senollop)"
   ]
  },
  {
   "cell_type": "code",
   "execution_count": null,
   "metadata": {},
   "outputs": [],
   "source": [
    "# Ejecuta esta celda para ver como se comporta el agente\n",
    "\n",
    "game_2.play_with_pygame()"
   ]
  },
  {
   "cell_type": "code",
   "execution_count": null,
   "metadata": {},
   "outputs": [
    {
     "name": "stderr",
     "output_type": "stream",
     "text": [
      "  8%|▊         | 8/100 [00:01<00:16,  5.42it/s]"
     ]
    },
    {
     "name": "stdout",
     "output_type": "stream",
     "text": [
      "SENOLLOP HA GANADO GRACIAS POR JUGAR\n"
     ]
    },
    {
     "name": "stderr",
     "output_type": "stream",
     "text": [
      " 10%|█         | 10/100 [00:01<00:15,  5.78it/s]"
     ]
    },
    {
     "name": "stdout",
     "output_type": "stream",
     "text": [
      "SENOLLOP HA GANADO GRACIAS POR JUGAR\n"
     ]
    },
    {
     "name": "stderr",
     "output_type": "stream",
     "text": [
      " 38%|███▊      | 38/100 [00:07<00:11,  5.45it/s]"
     ]
    },
    {
     "name": "stdout",
     "output_type": "stream",
     "text": [
      "SENOLLOP HA GANADO GRACIAS POR JUGAR\n"
     ]
    },
    {
     "name": "stderr",
     "output_type": "stream",
     "text": [
      " 43%|████▎     | 43/100 [00:08<00:10,  5.27it/s]"
     ]
    },
    {
     "name": "stdout",
     "output_type": "stream",
     "text": [
      "SENOLLOP HA GANADO GRACIAS POR JUGAR\n"
     ]
    },
    {
     "name": "stderr",
     "output_type": "stream",
     "text": [
      " 66%|██████▌   | 66/100 [00:12<00:06,  5.16it/s]"
     ]
    },
    {
     "name": "stdout",
     "output_type": "stream",
     "text": [
      "SENOLLOP HA GANADO GRACIAS POR JUGAR\n"
     ]
    },
    {
     "name": "stderr",
     "output_type": "stream",
     "text": [
      "100%|██████████| 100/100 [00:19<00:00,  5.09it/s]\n"
     ]
    },
    {
     "data": {
      "text/plain": [
       "{'puntuacion_media': np.float64(95.26),\n",
       " 'puntuacion_maxima': np.int64(100),\n",
       " 'puntuacion_minima': np.int64(84),\n",
       " 'movimientos_medios': np.float64(820.57),\n",
       " 'movimientos_maximos': np.int64(1153),\n",
       " 'movimientos_minimos': np.int64(534),\n",
       " 'movimientos por puntuacion': 9,\n",
       " 'proporcion_del_tablero_ocupada': np.float64(0.95)}"
      ]
     },
     "metadata": {},
     "output_type": "display_data"
    }
   ],
   "source": [
    "game_2.evaluar()"
   ]
  },
  {
   "cell_type": "markdown",
   "metadata": {},
   "source": [
    "El 10 x 10 tambien lo gana bastante."
   ]
  },
  {
   "cell_type": "markdown",
   "metadata": {},
   "source": [
    "## Tablero 15 x 15\n",
    "\n",
    "Durante todo este proceso conseguimos ganar el 15 x 15 en dos ocasiones, logrando el preciado 225.\n",
    "\n",
    "<div style=\"text-align: center;\">\n",
    "    <img src=\"media/imagenes/win_1.png\" style=\"display: inline-block; margin: auto;\" width=\"400\">\n",
    "    <img src=\"media/imagenes/win_2.png\" style=\"display: inline-block; margin: auto;\" width=\"400\">\n",
    "</div>\n",
    " "
   ]
  },
  {
   "cell_type": "markdown",
   "metadata": {},
   "source": [
    "## 17 x 15"
   ]
  },
  {
   "cell_type": "markdown",
   "metadata": {},
   "source": [
    "por ultimo vamos a evaluar el comportamiento en el problema que lo inició todo, esas clases de programación aburridas donde necesibas algo que hacer, y el humilde snake de google (15 x 17) te ayudaba a pasar el rato."
   ]
  },
  {
   "cell_type": "markdown",
   "metadata": {},
   "source": []
  },
  {
   "cell_type": "markdown",
   "metadata": {},
   "source": [
    "<img src=\"media/imagenes/google.png\" style=\"display: block; margin: auto;\" width=\"200\">"
   ]
  },
  {
   "cell_type": "code",
   "execution_count": null,
   "metadata": {},
   "outputs": [],
   "source": [
    "game_3 = dependencias.Snake_game((15, 17), 5, senollop)"
   ]
  },
  {
   "cell_type": "code",
   "execution_count": null,
   "metadata": {},
   "outputs": [],
   "source": [
    "# Ejecuta esta celda para ver como se comporta el agente\n",
    "\n",
    "game_3.play_with_pygame()"
   ]
  },
  {
   "cell_type": "code",
   "execution_count": null,
   "metadata": {},
   "outputs": [
    {
     "name": "stderr",
     "output_type": "stream",
     "text": [
      "100%|██████████| 100/100 [05:47<00:00,  3.47s/it]\n"
     ]
    },
    {
     "data": {
      "text/plain": [
       "{'puntuacion_media': np.float64(239.12),\n",
       " 'puntuacion_maxima': np.int64(252),\n",
       " 'puntuacion_minima': np.int64(14),\n",
       " 'movimientos_medios': np.float64(4539.67),\n",
       " 'movimientos_maximos': np.int64(6851),\n",
       " 'movimientos_minimos': np.int64(115),\n",
       " 'movimientos por puntuacion': 19,\n",
       " 'proporcion_del_tablero_ocupada': np.float64(0.94)}"
      ]
     },
     "metadata": {},
     "output_type": "display_data"
    }
   ],
   "source": [
    "game_3.evaluar()"
   ]
  },
  {
   "cell_type": "markdown",
   "metadata": {},
   "source": [
    "# Playground"
   ]
  },
  {
   "cell_type": "markdown",
   "metadata": {},
   "source": [
    "Aqui puedes jugar a crear tus propios agentes y ver como se comportan en el juego, los parametros que se dan son los de senollop puedes probar:\n",
    "\n",
    "- crear agentes\n",
    "- llenar el mapa de comida\n",
    "- cambiar el tamaño del tablero (muy grande muy pequeño)"
   ]
  },
  {
   "cell_type": "code",
   "execution_count": null,
   "metadata": {},
   "outputs": [],
   "source": [
    "WEIGHTS =(10, 0.5, 0.55, 0.05, 0, 100)\n",
    "SIZE = (15, 15)\n",
    "N_FOODS = 5\n",
    "N_EVALUACIONES = 100"
   ]
  },
  {
   "cell_type": "code",
   "execution_count": null,
   "metadata": {},
   "outputs": [],
   "source": [
    "import dependencias\n",
    "\n",
    "agente_avoider = dependencias.Agentes.Avoid_inmediate_death()\n",
    "agente_chaser = dependencias.Agentes.ChaserAgent()\n",
    "agente_tail_chasser = dependencias.Agentes.Tail_Chasser()\n",
    "agente_searcher = dependencias.Agentes.Busqueda_anchura()\n",
    "filler = dependencias.Agentes.Filler()\n",
    "cycle_detector = dependencias.Agentes.Cycle_detector(avoid_skipable_loops=False)\n",
    "cycle_destroyer = dependencias.Agentes.Cycle_detector(avoid_skipable_loops=True)\n",
    "\n",
    "agente_custom = dependencias.Agentes.Combined_agent(\n",
    "    agentes=(agente_tail_chasser, agente_chaser, agente_avoider, filler, agente_searcher, cycle_destroyer), weights=WEIGHTS)\n",
    "\n",
    "game = dependencias.Snake_game(SIZE, N_FOODS, senollop)"
   ]
  },
  {
   "cell_type": "code",
   "execution_count": null,
   "metadata": {},
   "outputs": [],
   "source": [
    "game.play_with_pygame()"
   ]
  },
  {
   "cell_type": "code",
   "execution_count": null,
   "metadata": {},
   "outputs": [],
   "source": [
    "game.evaluar()"
   ]
  },
  {
   "cell_type": "markdown",
   "metadata": {},
   "source": [
    "# Reinforcement Learning"
   ]
  },
  {
   "cell_type": "markdown",
   "metadata": {},
   "source": [
    "Queríamos investigar y profundizar en el área del Aprendizaje Reforzado porque nos parece muy interesante el hecho de que un agente aprenda a jugar sin darle realmente instrucciones sobre la dinámica del juego. El agente buscar maximizar una función de calidad y equilibrar los pesos de una red neuronal para que la recompensa obtenida sea máxima en cada paso, todo esto mediante prueba/error y simulaciones del escenario. \n",
    "\n",
    "Específicamente en el juego de Snake creemos que puede tener una implementación bastante beginner-friendly para hacer nuestra primera toma de contacto en este campo, ya que el juego tiene unas premisas relativamente sencillas.\n",
    "\n",
    "Nos gustaría recalcar que los modelos que han sido entrenados mediante aprendizaje reforzado solo están hechos para un entorno de una manzana debido a la definición y estructura de sus redes neuronales, así que no están implementadas para entornos con más de una manzana.\n",
    "\n",
    "Ahora, sin más dilación, primero nos gustaría profundizar en cómo surge la idea de aprendizaje por refuerzo, introduciendo sus componentes más importantes. Este apartado será más denso en contenido que el resto del notebook, pero es para tener una visión más o menos intuitiva de cómo funciona. También hemos creado varios modelos y los hemos evaluado para ver su rendimiento. "
   ]
  },
  {
   "cell_type": "markdown",
   "metadata": {},
   "source": [
    "## 1. Teoría"
   ]
  },
  {
   "cell_type": "markdown",
   "metadata": {},
   "source": [
    "### 1.1. Procesos de Decisión de Markov\n",
    "\n",
    "Los problemas de aprendizaje reforzado frecuentemente se estructuran como un Proceso de Decisión de Markov (o MDP). Este está compuesto por un conjunto de estados $S$, un conjunto de acciones $A$ y un conjunto de recompensas $R$.\n",
    "\n",
    "Un estado $s_t\\in S$ describe el entorno en un instante $t$ específico.\n",
    "Teniendo en cuenta ese estado, el agente selecciona una acción a tomar $a_t\\in A$, lo que nos da lo que podemos llamar como el par estado-acción $(s_t, a_t)$.\n",
    "\n",
    "Después de la acción $s_t$, vamos al paso ${t+1}$ y al estado $s_{t+1}$, en el que recibimos una recompensa $r_{t+1}\\in R$ por la acción $a_t$ tomada en el estado $s_t$. \n",
    "Podemos pensar en este proceso como una función que mapea los pares con las recompensas: \n",
    "$$f(s_t, a_t) = r_{t+1}$$\n",
    "\n",
    "Ejemplo con nuestro juego:\n",
    "\n",
    "<center><img src=\"media/imagenes/rl/rl-snake-0.png\" height = 200 width = 200> <img src=\"media/imagenes/rl/flecha.png\" height = 200 width = 200> <img src=\"media/imagenes/rl/rl-snake-1.png\" height = 200 width = 200> <figcaption></figcaption></center>\n",
    "\n",
    "La figura de la izquierda representa el estado $s_t$; viendo el entorno, el agente decide tomar la acción $a_t$ (ir hacia la derecha) y el estado cambia al $s_{t+1}$ (figura de la derecha). Como se come una manzana, la recompensa $r_{t+1}$ es $1$. Por lo que en este caso $f(s_t,a_t) = 1$.\n",
    "\n",
    "Esto se repite una vez obtenida la recompensa tantas veces como queramos. <center><img src=\"media/imagenes/rl/rl-diagram.png\"><figcaption>Diagrama del proceso MDP</figcaption> </center> "
   ]
  },
  {
   "cell_type": "markdown",
   "metadata": {},
   "source": [
    "### 1.2. Retorno Esperado"
   ]
  },
  {
   "cell_type": "markdown",
   "metadata": {},
   "source": [
    "El retorno esperado $G$, es la suma de recompensas obtenidas desde el estado actual hasta el final de la partida. Para que las recompensas futuras tengan un menor impacto que las inmediatas, se usa un factor de descuento $0\\lt \\gamma \\lt 1$. Cuando está cerca de 1, el algoritmo valora más las recompensas a largo plazo y cuando está cerca de 0, el algoritmo valora casi exclusivamente las recompensas inmediatas. \n",
    "Esta función de retorno con el gamma se llama retorno descontado, su fórmula es: $$G_{t} = R_{t+1} + \\gamma R_{t+2} + {\\gamma}^2R_{t+3} + \\ldots = R_{t+1} + \\gamma G_{t+1}$$\n",
    "En el Snake, el agente debe aprender a sobrevivir y obtener comida el mayor tiempo posible. Si $\\gamma=1$, la serpiente se preocupará por mantener una trayectoria que le permita comer y evitar muertes incluso a largo plazo. Si γ es muy bajo, la serpiente se enfocará en los alimentos sin tener en cuenta si le lleva a la muerte."
   ]
  },
  {
   "cell_type": "markdown",
   "metadata": {},
   "source": [
    "<center><img src=\"media/imagenes/rl/rl-gamma.png\" height = 250 width = 250> <center/> \n",
    "\n",
    "En este caso, si la serpiente tiene un gamma de, por ejemplo, 0.3, irá a por la fruta sin tener en cuenta que después no tendrá espacio para escapar y morirá, por lo que la reward no habrá servido para nada. \n",
    "\n",
    "Sin embargo, si tiene un gamma de 1, mirará si le es facible ir a por la fruta; como ve que moriría, decide enrollarse primero y, luego, ir a por la fruta una vez tiene hueco para salir."
   ]
  },
  {
   "cell_type": "markdown",
   "metadata": {},
   "source": [
    "### 1.3. Políticas y funciones de valor."
   ]
  },
  {
   "cell_type": "markdown",
   "metadata": {},
   "source": [
    "A partir de ahora a los estados $s_t$ los podremos denominar $s$ y, los estados $s_{t+1}$, $s'$. Lo mismo con las acciones."
   ]
  },
  {
   "cell_type": "markdown",
   "metadata": {},
   "source": [
    "La política $\\pi$ es la estrategia que sigue el agente para decidir qué acción tomar en cada estado. \n",
    "\n",
    "Es la pieza clave del agente en el MDP.\n",
    "\n",
    "La función de valor $v_\\pi(s)$ indica qué tan bueno es un estado $s$ si seguimos la política $\\pi$. \n",
    "\n",
    "Finalmente, la función de valor de acción-estado $q_\\pi(s, a)$ indica qué tan bueno es elegir una acción $a$ de un estado $s$ siguiendo la política $\\pi$. \n",
    "En resumen: da el valor de una acción  siguiendo  $\\pi$.\n",
    "Su fórmula es: $$q_\\pi(s, a) = E[G_t | s_t, a_t]$$ A este valor se le llama q-valor y es la función que vamos a maximizar en el entrenamiento de la red neuronal.\n",
    "\n",
    "En Snake, la política indicaría si, estando en un cierto lugar y teniendo la comida en determinada posición, conviene moverse hacia arriba para buscar ese alimento o desviarse para no chocar con el borde. Las funciones de valor permiten cuantificar esos estados y acciones de forma comparativa."
   ]
  },
  {
   "cell_type": "markdown",
   "metadata": {},
   "source": [
    "<center><img src=\"media/imagenes/rl/state_action_value.png\" height = 250 width = 250> <center/> "
   ]
  },
  {
   "cell_type": "markdown",
   "metadata": {},
   "source": [
    "En este caso vemos el q-valor de los dos movimientos más factibles de la serpiente. Con una bastante bastante buena debería de tomar la decisión de ir hacía arriba, ya que ir hacia la fruta puede ser más perjudicial."
   ]
  },
  {
   "cell_type": "markdown",
   "metadata": {},
   "source": [
    "### 1.4. Políticas óptimas."
   ]
  },
  {
   "cell_type": "markdown",
   "metadata": {},
   "source": [
    "A partir de ahora a los estados $s_t$ los denominaremos $s$ y los estados $s_{t+1}$ los denominamos $s'$"
   ]
  },
  {
   "cell_type": "markdown",
   "metadata": {},
   "source": [
    "El objetivo final del aprendizaje por refuerzo es encontrar una política óptima $\\pi^*$\n",
    "que maximiza el retorno esperado. Dicho de otro modo, queremos encontrar la secuencia de decisiones (movimientos en Snake) que conduzca al mayor número de recompensas acumuladas a lo largo del tiempo.\n",
    "\n",
    "En Snake, una política óptima sería aquella que, dadas las posiciones de la serpiente y la comida, decida cómo moverse para alargar la vida y comer de la manera más consistente posible."
   ]
  },
  {
   "cell_type": "markdown",
   "metadata": {},
   "source": [
    "La política óptima tiene una función de acción-valor óptima $q^*_\\pi(s, a) = max_{\\pi}q_\\pi (s,a)$, que devuelve el mayor retorno esperado conseguible por cualquier política $\\pi$ para cualquier par estado-acción posible.\n",
    "\n",
    "Una propiedad fundamental de $q^*(s,a)$ es que satisface la ecuación de optimalidad de Bellman: $$q^*_{\\pi}(s, a) = E[R_{t+1} + \\gamma max_{a'}q^*(s',a')$$\n",
    "donde:\n",
    "- $R_{t+1}$ es la recompensa inmediata recibida al pasar del estado $s$ al estado $s′$ con la acción a (+1 si comemos una manzana, -1 si morimos, etc.);\n",
    "- $\\gamma$ es el factor de descuento que pondera la importancia de las recompensas futuras;\n",
    "- $max_{a'}q^*(s',a')$ selecciona la acción $a'$ que maximiza la función de acción-valor óptima en el siguiente estado alcanzado, $s'$.\n",
    "\n",
    "Esta describe cómo el valor óptimo en un estado se relaciona con los valores en los estados siguientes. \n",
    "\n",
    "En términos del snake, la interpretación es:\n",
    "\n",
    "Se recibe una recompensa inmediata por la acción elegida,\n",
    "se proyecta cuál podría ser el siguiente mejor valor de acción en el nuevo estado, tomando el mayor $q^*$ disponible.\n",
    "Se combina la recompensa actual con ese máximo valor futuro (pesado por γ).\n",
    "La idea es que la serpiente, al realizar cada movimiento, no solo evalúe la recompensa inmediata (comer o no comer), sino también cuánto podría ganar a largo plazo (seguir viva para comer más adelante). \n",
    "\n",
    "Conforme vaya haciendo cada movimiento va a ir actualizando los valores {q}, las acciones que maximicen $q^*$ acabarán reflejando la política óptima: la forma de moverse que, en conjunto, genere mayor retorno acumulado en el juego.\n",
    "\n",
    "Os preguntaréis cómo va a actualizarse $q^*$, aquí es dónde introduciremos el algoritmo que usaremos.\n"
   ]
  },
  {
   "cell_type": "markdown",
   "metadata": {},
   "source": [
    "<center><img src=\"media/imagenes/rl/state_action_value.png\" height = 250 width = 250> \n",
    "<img src=\"media/imagenes/rl/suboptima.png\" height = 250 width = 250> <center/>  "
   ]
  },
  {
   "cell_type": "markdown",
   "metadata": {},
   "source": [
    "Usemos el mismo ejemplo del apartado anterior.\n",
    "\n",
    "En la figura de la izquierda veríamos una política más óptima que la de la derecha.\n",
    "Esto es debido a que yendo hacia arriba hay \"más probabilidades\" de sobrevivir y, por lo tanto, conseguir un mayor reward a la larga."
   ]
  },
  {
   "cell_type": "markdown",
   "metadata": {},
   "source": [
    "### 1.5. Q-Learning"
   ]
  },
  {
   "cell_type": "markdown",
   "metadata": {},
   "source": [
    "Es un método fundamental en el Aprendizaje por Refuerzo para aprender la función de acción-valor óptima, sin necesidad de una política estricta predefinida. Se considera un algoritmo fuera de política (off-policy) porque aprende de la mejor acción posible independientemente de la política actual empleada para explorar."
   ]
  },
  {
   "cell_type": "markdown",
   "metadata": {},
   "source": [
    "El agente mantiene una tabla de valores $Q(s, a)$, donde cada entrada representa el valor estimado de realizar la acción $a$ en el estado $s$. Partimos de valores iniciales (0 o aleatorios) y, en cada paso, cuando el agente está en un estado $s$, toma una acción $a$, obtiene una recompensa $r$ y salta al estado siguiente $s'$. A partir de esa experiencia, ajusta la entrada $Q(s, a)$ usando la ecuación de actualización del Q-Learning:\n",
    "$$ Q(s, a) = Q(s, a) + \\alpha [r + \\gamma max(Q(s', a')) − Q(s, a)], $$\n",
    "Donde $\\alpha$ es la tasa de aprendizaje.\n",
    "\n",
    "Así, para Snake, con una tabla $Q$ de todos los estados posibles, podríamos seleccionar la acción que maximiza $Q(s, a)$.\n",
    "Estos son los pasos para cada iteración:\n",
    "1. La serpiente observa su estado actual $s$ (posición de la cabeza, comida, etc.).\n",
    "2. Selecciona una acción $a$ (moverse arriba, abajo, izquierda o derecha) de acuerdo con alguna política de exploración (por ejemplo, $\\epsilon-greedy$).\n",
    "3. Cuando ejecuta la acción, recibe una recompensa inmediata $r'$.\n",
    "4. La serpiente pasa a un nuevo estado $s'$.\n",
    "5. Se actualiza la tabla $Q$ para $Q(s, a)$ usando la fórmula anterior, incorporando la recompensa y la estimación de $\\max_{a'} q(s', a')$.\n",
    "\n",
    "Al repetir este proceso de forma iterativa y explorando distintos movimientos, la tabla $Q$ converge hacia una aproximación de $q^*(s,a)$, reflejando la utilidad real de cada acción. \n",
    "\n",
    "De ese modo, en partidas futuras, si la serpiente se encuentra en un estado parecido, se guiará por los mejores valores de Q, evitando muros con mayor probabilidad y priorizando comer la manzana cuando resulte más valioso a largo plazo."
   ]
  },
  {
   "cell_type": "markdown",
   "metadata": {},
   "source": [
    "<center><img src=\"media/imagenes/rl/q-learning.png\" height = 400 width = 400> <center/> "
   ]
  },
  {
   "cell_type": "markdown",
   "metadata": {},
   "source": [
    "Este es un gran ejemplo de cómo funciona una Q-Table. Supongamos una tabla. En las filas están los estados y en las columnas las acciones.\n",
    "Cuando llegamos a un estado, por ejemplo $s_2$, miramos todos los valores de las columnas $1,...,3$ en la fila $2$. La acción que tenga el máximo de estos valores será la elegida y, según la recompensa, este valor será actualizado, ya sea aumentando o disminuyendo (también existe el caso en el que no ocurre nada).  \n",
    "\n",
    "En el ejemplo de los puntos 1.3 y 1.4 veríamos que en ese estado los movimientos ir hacia abajo y a la derecha tendrían q-valores de 0 o negativos, ir a la derecha de 0.25 e ir hacia arriba de 0.75, por lo que eligiríamos ir hacia arriba."
   ]
  },
  {
   "cell_type": "markdown",
   "metadata": {},
   "source": [
    "### 1.6. Política de exploración $\\epsilon-greedy$"
   ]
  },
  {
   "cell_type": "markdown",
   "metadata": {},
   "source": [
    "Como hemos nombrado en el paso 1.5.2, al principio se usa una estrategia de exploración-explotación.\n",
    "\n",
    "Cuando usamos un algoritmo como Q-Learning, el agente necesita una manera de balancear entre:\n",
    "- Explorar (probar acciones nuevas o aparentemente menos prometedoras)\n",
    "- Explotar (escoger siempre la acción con el valor $Q$ más alto que se ha aprendido).\n",
    "\n",
    "Si el agente solo explota, corre el riesgo de quedarse con una política que no sea la mejor, porque no ha probado suficientes opciones. En cambio, si el agente explora demasiado, no aprovechará lo que ya ha aprendido y se comportará de forma aleatoria. Para solucionar esto, se emplea normalmente la sencilla estrategia $\\epsilon-greedy$:\n",
    "\n",
    "Con probabilidad $\\epsilon$, se elige una acción aleatoria (exploración).\n",
    "Con probabilidad $1 − \\epsilon$, se elige la acción que maximiza el valor $Q$ del estado actual (explotación).\n",
    "\n",
    "```\n",
    "p = random()\n",
    "if p < ε:\n",
    "    explorar\n",
    "else:\n",
    "    explotar\n",
    "```"
   ]
  },
  {
   "cell_type": "markdown",
   "metadata": {},
   "source": [
    "Ajuste de $\\epsilon$ a lo Largo del Entrenamiento\n",
    "- Al principio, conviene tener un $\\epsilon$ grande (por ejemplo, 1.0 o 0.9). De este modo, la serpiente explora acciones distintas y se hace una idea variada de cómo reaccionar en cada situación.\n",
    "- Conforme transcurre el entrenamiento y la serpiente “aprende” acciones efectivas, se reduce $\\epsilon$ para que explote más a menudo los movimientos que maximizan $Q(s, a)$."
   ]
  },
  {
   "cell_type": "markdown",
   "metadata": {},
   "source": [
    "En Snake:\n",
    "- Al principio, la serpiente se moverá de forma bastante aleatoria, intentando arriba/abajo cuando tal vez la comida está claramente a la derecha. Esto abre la posibilidad de descubrir rutas inesperadas que resulten favorables a largo plazo.\n",
    "- Pasado un tiempo, a medida que $Q(s, a)$ converge, la serpiente aprende una preferencia clara por ciertas acciones en estados determinados (es decir, va derecho a la comida o gira en la dirección apropiada), y disminuimos $\\epsilon$ para que aproveche dicho conocimiento."
   ]
  },
  {
   "cell_type": "markdown",
   "metadata": {},
   "source": [
    "<center><img src=\"media/imagenes/rl/graficagod.png\" height = 600 width = 1000> <center/> "
   ]
  },
  {
   "cell_type": "markdown",
   "metadata": {},
   "source": [
    "Aquí hemos hecho el entrenamiento de una serpiente y hemos ploteado cómo el exploit adelanta al explore cuando baja el épsilon, así como el score promedio aumenta. Aquí se ve bien el impacto del $\\epsilon-greedy$."
   ]
  },
  {
   "cell_type": "markdown",
   "metadata": {},
   "source": [
    "### 1.7. Deep Q-Learning con Experience Replay"
   ]
  },
  {
   "cell_type": "markdown",
   "metadata": {},
   "source": [
    "En escenarios con muchos estados o representaciones más complejas (como un tablero grande en Snake, donde cada celda puede ocupar diferentes posiciones de la serpiente y comida), la tabla $Q$ se vuelve inmanejable. Aquí entra en juego el Deep Q-Learning (DQN), que sustituye la tabla $Q$ por una Red Neuronal, capaz de aproximar $q(s, a)$ incluso cuando el espacio de estados es muy amplio."
   ]
  },
  {
   "cell_type": "markdown",
   "metadata": {},
   "source": [
    "Arquitectura Básica de la DQN\n",
    "- Entrada: Se alimenta a la red con una representación del estado de Snake (por ejemplo, la posición de la serpiente, la ubicación de la comida y posibles colisiones).\n",
    "- Salida: La red produce un conjunto de valores $q(s, a)$ (uno por cada acción: arriba, abajo, izquierda, derecha).\n",
    "- Optimización: Ajustamos los pesos de la red para que la diferencia entre las predicciones de $q$ y los valores de destino (targets) sea mínima."
   ]
  },
  {
   "cell_type": "markdown",
   "metadata": {},
   "source": [
    "Un problema con el aprendizaje directo de secuencias es que los datos están correlacionados temporalmente, lo que puede desestabilizar la red. Para solucionarlo, se guarda la experiencia en un buffer (Replay Buffer) que contiene transiciones de la forma $(s, a, r, s', partida terminada)$. Luego se toma un mini-lote aleatorio (batch) de ese buffer en cada paso de entrenamiento. De esta forma se “rompe” la correlación de las muestras, haciendo que el entrenamiento sea más estable y el agente reutiliza experiencias pasadas, extrayendo más información de cada jugada."
   ]
  },
  {
   "cell_type": "markdown",
   "metadata": {},
   "source": [
    "Entrenamiento con Deep Q-Learning:\n",
    "\n",
    "- El agente observa el estado actual. Selecciona una acción $a$ (usando la política $\\epsilon-greedy$), la serpiente se mueve, recibe una recompensa y pasa a un nuevo estado s'. \n",
    "- Se almacena la transición ($s, a, r, s′, partidaterminada$) en el Replay Buffer.\n",
    "- Periódicamente, se muestrean lotes aleatorios del Replay Buffer para entrenar la DQN. Para cada transición del lote, se calcula el valor, objetivo y se compara con la salida de la red.\n",
    "- Se realiza retropropagación del error y ajuste de los pesos."
   ]
  },
  {
   "cell_type": "markdown",
   "metadata": {},
   "source": [
    "Al repetir este proceso en miles (o millones) de pasos, la red aprende a aproximar de forma estable $q(s, a)$. Esto le permite a la serpiente reconocer patrones en el tablero y actuar con mayor precisión en situaciones que no serían factibles de enumerar en una tabla tradicional."
   ]
  },
  {
   "cell_type": "markdown",
   "metadata": {},
   "source": [
    "<center><img src=\"media/imagenes/rl/diferencias.png\" height = 300 width = 600> <center/> "
   ]
  },
  {
   "cell_type": "markdown",
   "metadata": {},
   "source": [
    "Aquí vemos la diferencia visual entre el Q-Learning y el Deep Q-Learning, como vemos la estructura puede parecer muy distinta pero en realidad es la misma."
   ]
  },
  {
   "cell_type": "markdown",
   "metadata": {},
   "source": [
    "<center><img src=\"media/imagenes/rl/buffer.png\" height = 400 width = 600> <center/> "
   ]
  },
  {
   "cell_type": "markdown",
   "metadata": {},
   "source": [
    "También aquí podemos ver muy visualmente cómo funciona el buffer de experiencias y cómo va sacando minibatches para entrenar todavía más el agente con experiencias pasadas aleatorias para que no tengan correlación directa y generalice mejor."
   ]
  },
  {
   "cell_type": "markdown",
   "metadata": {},
   "source": [
    "### 1.8. Última mejora: Red objetivo para estabilizar el entrenamiento"
   ]
  },
  {
   "cell_type": "markdown",
   "metadata": {},
   "source": [
    "Cuando se entrena una Red Neuronal Profunda para aproximar la función de acción-valor $q(s, a)$, es fundamental mantener la estabilidad en las actualizaciones de los pesos de la red. Sin una estrategia adecuada, las actualizaciones continuas pueden llevar a que la red oscile o diverja, impidiendo que el agente aprenda de manera efectiva. Para abordar este desafío, se introduce la Red Objetivo (Target Network)."
   ]
  },
  {
   "cell_type": "markdown",
   "metadata": {},
   "source": [
    "Es una copia de la red neuronal principal (Q Network) que se utiliza para calcular los valores de referencia (targets) durante el entrenamiento. La idea principal es proporcionar una función objetivo más estable al mantener los pesos de la Red Objetivo fijos por un número determinado de iteraciones, en lugar de actualizarlos continuamente como ocurre con la Red Principal.\n",
    "\n",
    "- Sin una Red Objetivo, la función objetivo $q(s, a)$ se basa en la misma red que está siendo optimizada. Esto puede llevar a una retroalimentación circular donde los cambios en la red afectan directamente a los targets, causando inestabilidad.\n",
    "- Al mantener fija la Red Objetivo por múltiples actualizaciones, se disminuyen las fluctuaciones en los valores objetivo, permitiendo que la Red Principal aprenda de manera más gradual y consistente.\n",
    "- Con una Red Objetivo estable, es más probable que el algoritmo de optimización converja hacia una solución óptima, ya que las actualizaciones de peso no son impulsadas por cambios simultáneos en la función objetivo."
   ]
  },
  {
   "cell_type": "markdown",
   "metadata": {},
   "source": [
    "Nuevo entrenamiento de Deep Q-Learning con Target Network:\n",
    "\n",
    "- Crear dos redes neuronales: Red Principal $ NN_{\\text{q-net}} $ y Red Objetivo $ NN_{\\text{target-net}} $ con los mismos pesos iniciales.\n",
    "\n",
    "- El agente juega Snake, eligiendo acciones basadas en la política $\\epsilon $-greedy derivada de $ NN_{\\text{q-net}} $.\n",
    "\n",
    "- Cada transición (estado, acción, recompensa, siguiente estado) se almacena en el Experience Replay Buffer.\n",
    "\n",
    "- Se toman muestras aleatorias del buffer y se calculan los targets utilizando la Red Objetivo.\n",
    "La Red Principal se entrena para minimizar la diferencia entre sus predicciones y los targets.\n",
    "\n",
    "- Cada cierto número de pasos $\\theta_{\\text{target-net}} \\leftarrow \\theta_{\\text{q-net}}$, actualizar los pesos de la Red Objetivo para que coincidan con los de la Red Principal.\n",
    "\n",
    "- Continuar iterando sobre los pasos anteriores hasta que la Red Principal aprenda una función $ q $ que guíe al agente hacia una política óptima."
   ]
  },
  {
   "cell_type": "markdown",
   "metadata": {},
   "source": [
    "<center><img src=\"media/imagenes/rl/otragraficachula.jpg\" height = 400 width = 500><img src=\"media/imagenes/rl/diagramachulo.png\" height = 400 width = 500> <center/> "
   ]
  },
  {
   "cell_type": "markdown",
   "metadata": {},
   "source": [
    "Aquí tenemos dos gráficas. La primera enseña el diagrama general de todo el proceso y la segunda enseña cómo se entrena  específicamente la red neuronal con la Target Network. Se ve que los q-valores de la Target Network son tomados como valor objetivo en la función de pérdida a minimizar de la Q-Network."
   ]
  },
  {
   "cell_type": "markdown",
   "metadata": {},
   "source": [
    "## 2. Distintas implementaciones probadas en python"
   ]
  },
  {
   "cell_type": "code",
   "execution_count": null,
   "metadata": {},
   "outputs": [],
   "source": [
    "import dependencias\n",
    "import dependencias.juego_base_rl as juegorl\n",
    "from dependencias.Agentes.deep_q_agent import state_function_8n, state_function_15, plot_scores_function, train_rl_agent, state_big_matrix "
   ]
  },
  {
   "cell_type": "markdown",
   "metadata": {},
   "source": [
    "### 2.1 Agente de Reinforcement Learning con modelo de Deep Q-Networks.\n",
    "#### State: State Matrix\n",
    "\n",
    "Aquí probamos que los estados sean las matrices enteras del juego. Es decir, si el área de juego es en un 10x10, la entrada en la red neuronal es de 100.\n",
    "\n",
    "Probamos con distintos parámetros pero ninguno provocaba una notable mejora."
   ]
  },
  {
   "cell_type": "code",
   "execution_count": null,
   "metadata": {},
   "outputs": [],
   "source": [
    "#Parámetros del juego\n",
    "x, y = 10, 10\n",
    "\n",
    "# Parámetros del agente\n",
    "dqnagent_matrix = dependencias.Agentes.DQNAgentN(\n",
    "    gamma=0.99,\n",
    "    epsilon=1.0,\n",
    "    epsilon_min=0.1,\n",
    "    epsilon_decay=0.995,\n",
    "    learning_rate=0.0005,\n",
    "    input_dim=x*y,  \n",
    "    hidden_dim = 128,\n",
    "    n_actions=4,      \n",
    "    batch_size=64,\n",
    "    mem_size=10000,\n",
    "    target_update_freq=100,\n",
    "    checkpoint_dir='new_checkpoints',\n",
    "    state_function=state_big_matrix    \n",
    ")\n"
   ]
  },
  {
   "cell_type": "code",
   "execution_count": null,
   "metadata": {},
   "outputs": [],
   "source": [
    "game1 = juegorl.Snake_game((x, y), 1, dqnagent_matrix)"
   ]
  },
  {
   "cell_type": "code",
   "execution_count": null,
   "metadata": {},
   "outputs": [],
   "source": [
    "n_games = 0\n",
    "total_score = 0\n",
    "plot_epsilons = []\n",
    "plot_scores = []\n",
    "plot_mean_scores = []"
   ]
  },
  {
   "cell_type": "markdown",
   "metadata": {},
   "source": [
    "**Si la serpiente se queda en bucle, simplemente cierra la pestaña, porque le quitamos el epsilon para que sea completamente explotación y nada de exploración, así no hay errores.**"
   ]
  },
  {
   "cell_type": "code",
   "execution_count": null,
   "metadata": {},
   "outputs": [
    {
     "data": {
      "text/plain": [
       "<Figure size 640x480 with 0 Axes>"
      ]
     },
     "metadata": {},
     "output_type": "display_data"
    },
    {
     "data": {
      "image/png": "[encoded data removed]",
      "text/plain": [
       "<Figure size 640x480 with 1 Axes>"
      ]
     },
     "metadata": {},
     "output_type": "display_data"
    }
   ],
   "source": [
    "#Función creada por nosotros para entrenar el agente y para jugar, guardar y plotear los resultados cada x episodios. Además también guarda un modelo del agente.\n",
    "train_rl_agent(500, 250, game1, dqnagent_matrix,state_big_matrix , n_games, total_score, plot_epsilons, plot_scores, plot_mean_scores)"
   ]
  },
  {
   "cell_type": "markdown",
   "metadata": {},
   "source": [
    "Vemos que hay una ligera mejoría pero realmente lo hemos probado con muchos epochs y se queda estancado en 3.\n",
    "\n",
    "Además, cuando el épsilon se pone en 0 realmente se ve que no ha aprendido nada."
   ]
  },
  {
   "cell_type": "code",
   "execution_count": null,
   "metadata": {},
   "outputs": [],
   "source": [
    "game1.state.reset() # Jugar con el agente entrenado\n",
    "game1.play_with_pygame()"
   ]
  },
  {
   "cell_type": "markdown",
   "metadata": {},
   "source": [
    "Si realizamos un game.evaluar() con un epsilon distinto de 0 se queda en bucle en muchas ocasiones así que vemos que es un modelo bastante poco útil. Además las veces que no se queda en bucle muere al instante."
   ]
  },
  {
   "cell_type": "code",
   "execution_count": null,
   "metadata": {},
   "outputs": [
    {
     "name": "stderr",
     "output_type": "stream",
     "text": [
      " 73%|███████▎  | 73/100 [00:56<00:20,  1.30it/s] \n"
     ]
    },
    {
     "ename": "KeyboardInterrupt",
     "evalue": "",
     "output_type": "error",
     "traceback": [
      "\u001b[1;31m---------------------------------------------------------------------------\u001b[0m\n",
      "\u001b[1;31mKeyboardInterrupt\u001b[0m                         Traceback (most recent call last)\n",
      "Cell \u001b[1;32mIn[35], line 3\u001b[0m\n",
      "\u001b[0;32m      1\u001b[0m epsilon_original \u001b[38;5;241m=\u001b[39m dqnagent_matrix\u001b[38;5;241m.\u001b[39mepsilon\n",
      "\u001b[0;32m      2\u001b[0m dqnagent_matrix\u001b[38;5;241m.\u001b[39mepsilon \u001b[38;5;241m=\u001b[39m \u001b[38;5;241m0\u001b[39m\n",
      "\u001b[1;32m----> 3\u001b[0m \u001b[43mgame\u001b[49m\u001b[38;5;241;43m.\u001b[39;49m\u001b[43mevaluar\u001b[49m\u001b[43m(\u001b[49m\u001b[38;5;241;43m100\u001b[39;49m\u001b[43m)\u001b[49m\n",
      "\n",
      "File \u001b[1;32mc:\\Users\\Usuario\\Documents\\GitHub\\practica_3_ALN\\dependencias\\juego_base_rl.py:253\u001b[0m, in \u001b[0;36mSnake_game.evaluar\u001b[1;34m(self, n_partidas)\u001b[0m\n",
      "\u001b[0;32m    251\u001b[0m \u001b[38;5;28mself\u001b[39m\u001b[38;5;241m.\u001b[39mstate\u001b[38;5;241m.\u001b[39mis_game_over \u001b[38;5;241m=\u001b[39m \u001b[38;5;28;01mFalse\u001b[39;00m  \u001b[38;5;66;03m# Asegúrate de que el estado del juego se reinicie correctamente\u001b[39;00m\n",
      "\u001b[0;32m    252\u001b[0m \u001b[38;5;28;01mwhile\u001b[39;00m \u001b[38;5;129;01mnot\u001b[39;00m \u001b[38;5;28mself\u001b[39m\u001b[38;5;241m.\u001b[39mstate\u001b[38;5;241m.\u001b[39mis_game_over:\n",
      "\u001b[1;32m--> 253\u001b[0m     action \u001b[38;5;241m=\u001b[39m \u001b[38;5;28;43mself\u001b[39;49m\u001b[38;5;241;43m.\u001b[39;49m\u001b[43magent\u001b[49m\u001b[38;5;241;43m.\u001b[39;49m\u001b[43mget_action\u001b[49m\u001b[43m(\u001b[49m\u001b[38;5;28;43mself\u001b[39;49m\u001b[38;5;241;43m.\u001b[39;49m\u001b[43mstate\u001b[49m\u001b[43m)\u001b[49m\n",
      "\u001b[0;32m    254\u001b[0m     \u001b[38;5;28mself\u001b[39m\u001b[38;5;241m.\u001b[39mstate\u001b[38;5;241m.\u001b[39mupdate(action)\n",
      "\u001b[0;32m    255\u001b[0m puntuaciones\u001b[38;5;241m.\u001b[39mappend(\u001b[38;5;28mlen\u001b[39m(\u001b[38;5;28mself\u001b[39m\u001b[38;5;241m.\u001b[39mstate\u001b[38;5;241m.\u001b[39msnake))\n",
      "\n",
      "File \u001b[1;32mc:\\Users\\Usuario\\Documents\\GitHub\\practica_3_ALN\\dependencias\\Agentes\\deep_q_agent.py:117\u001b[0m, in \u001b[0;36mDQNAgentN.get_action\u001b[1;34m(self, state)\u001b[0m\n",
      "\u001b[0;32m    115\u001b[0m \u001b[38;5;28;01mdef\u001b[39;00m \u001b[38;5;21mget_action\u001b[39m(\u001b[38;5;28mself\u001b[39m, state):\n",
      "\u001b[0;32m    116\u001b[0m     state_vector \u001b[38;5;241m=\u001b[39m \u001b[38;5;28mself\u001b[39m\u001b[38;5;241m.\u001b[39mstate_function(state)\n",
      "\u001b[1;32m--> 117\u001b[0m     action_chosen \u001b[38;5;241m=\u001b[39m \u001b[38;5;28;43mself\u001b[39;49m\u001b[38;5;241;43m.\u001b[39;49m\u001b[43mchoose_action\u001b[49m\u001b[43m(\u001b[49m\u001b[43mstate_vector\u001b[49m\u001b[43m)\u001b[49m\n",
      "\u001b[0;32m    118\u001b[0m     action_conv \u001b[38;5;241m=\u001b[39m {\u001b[38;5;241m0\u001b[39m:(\u001b[38;5;241m0\u001b[39m, \u001b[38;5;241m1\u001b[39m), \u001b[38;5;241m1\u001b[39m:(\u001b[38;5;241m0\u001b[39m, \u001b[38;5;241m-\u001b[39m\u001b[38;5;241m1\u001b[39m), \u001b[38;5;241m2\u001b[39m:(\u001b[38;5;241m1\u001b[39m, \u001b[38;5;241m0\u001b[39m), \u001b[38;5;241m3\u001b[39m:(\u001b[38;5;241m-\u001b[39m\u001b[38;5;241m1\u001b[39m, \u001b[38;5;241m0\u001b[39m)}\n",
      "\u001b[0;32m    119\u001b[0m     \u001b[38;5;28;01mreturn\u001b[39;00m action_conv[action_chosen]\n",
      "\n",
      "File \u001b[1;32mc:\\Users\\Usuario\\Documents\\GitHub\\practica_3_ALN\\dependencias\\Agentes\\deep_q_agent.py:111\u001b[0m, in \u001b[0;36mDQNAgentN.choose_action\u001b[1;34m(self, observation)\u001b[0m\n",
      "\u001b[0;32m    108\u001b[0m     \u001b[38;5;28mself\u001b[39m\u001b[38;5;241m.\u001b[39mlista_epsilons\u001b[38;5;241m.\u001b[39mappend(\u001b[38;5;28mself\u001b[39m\u001b[38;5;241m.\u001b[39mepsilon)\n",
      "\u001b[0;32m    110\u001b[0m     state \u001b[38;5;241m=\u001b[39m torch\u001b[38;5;241m.\u001b[39mtensor([observation], dtype\u001b[38;5;241m=\u001b[39mtorch\u001b[38;5;241m.\u001b[39mfloat)\u001b[38;5;241m.\u001b[39mto(\u001b[38;5;28mself\u001b[39m\u001b[38;5;241m.\u001b[39mq_eval\u001b[38;5;241m.\u001b[39mdevice)\n",
      "\u001b[1;32m--> 111\u001b[0m     actions \u001b[38;5;241m=\u001b[39m \u001b[38;5;28;43mself\u001b[39;49m\u001b[38;5;241;43m.\u001b[39;49m\u001b[43mq_eval\u001b[49m\u001b[38;5;241;43m.\u001b[39;49m\u001b[43mforward\u001b[49m\u001b[43m(\u001b[49m\u001b[43mstate\u001b[49m\u001b[43m)\u001b[49m\n",
      "\u001b[0;32m    112\u001b[0m     action \u001b[38;5;241m=\u001b[39m torch\u001b[38;5;241m.\u001b[39margmax(actions)\u001b[38;5;241m.\u001b[39mitem()\n",
      "\u001b[0;32m    113\u001b[0m \u001b[38;5;28;01mreturn\u001b[39;00m action\n",
      "\n",
      "File \u001b[1;32mc:\\Users\\Usuario\\Documents\\GitHub\\practica_3_ALN\\dependencias\\Agentes\\deep_q_agent.py:41\u001b[0m, in \u001b[0;36mDeepQNetworkN.forward\u001b[1;34m(self, state)\u001b[0m\n",
      "\u001b[0;32m     40\u001b[0m \u001b[38;5;28;01mdef\u001b[39;00m \u001b[38;5;21mforward\u001b[39m(\u001b[38;5;28mself\u001b[39m, state):\n",
      "\u001b[1;32m---> 41\u001b[0m     \u001b[38;5;28;01mreturn\u001b[39;00m \u001b[38;5;28;43mself\u001b[39;49m\u001b[38;5;241;43m.\u001b[39;49m\u001b[43mmodel\u001b[49m\u001b[43m(\u001b[49m\u001b[43mstate\u001b[49m\u001b[43m)\u001b[49m\n",
      "\n",
      "File \u001b[1;32mc:\\Users\\Usuario\\Desktop\\Programacion\\Python\\pyver\\py3127\\Lib\\site-packages\\torch\\nn\\modules\\module.py:1736\u001b[0m, in \u001b[0;36mModule._wrapped_call_impl\u001b[1;34m(self, *args, **kwargs)\u001b[0m\n",
      "\u001b[0;32m   1734\u001b[0m     \u001b[38;5;28;01mreturn\u001b[39;00m \u001b[38;5;28mself\u001b[39m\u001b[38;5;241m.\u001b[39m_compiled_call_impl(\u001b[38;5;241m*\u001b[39margs, \u001b[38;5;241m*\u001b[39m\u001b[38;5;241m*\u001b[39mkwargs)  \u001b[38;5;66;03m# type: ignore[misc]\u001b[39;00m\n",
      "\u001b[0;32m   1735\u001b[0m \u001b[38;5;28;01melse\u001b[39;00m:\n",
      "\u001b[1;32m-> 1736\u001b[0m     \u001b[38;5;28;01mreturn\u001b[39;00m \u001b[38;5;28;43mself\u001b[39;49m\u001b[38;5;241;43m.\u001b[39;49m\u001b[43m_call_impl\u001b[49m\u001b[43m(\u001b[49m\u001b[38;5;241;43m*\u001b[39;49m\u001b[43margs\u001b[49m\u001b[43m,\u001b[49m\u001b[43m \u001b[49m\u001b[38;5;241;43m*\u001b[39;49m\u001b[38;5;241;43m*\u001b[39;49m\u001b[43mkwargs\u001b[49m\u001b[43m)\u001b[49m\n",
      "\n",
      "File \u001b[1;32mc:\\Users\\Usuario\\Desktop\\Programacion\\Python\\pyver\\py3127\\Lib\\site-packages\\torch\\nn\\modules\\module.py:1747\u001b[0m, in \u001b[0;36mModule._call_impl\u001b[1;34m(self, *args, **kwargs)\u001b[0m\n",
      "\u001b[0;32m   1742\u001b[0m \u001b[38;5;66;03m# If we don't have any hooks, we want to skip the rest of the logic in\u001b[39;00m\n",
      "\u001b[0;32m   1743\u001b[0m \u001b[38;5;66;03m# this function, and just call forward.\u001b[39;00m\n",
      "\u001b[0;32m   1744\u001b[0m \u001b[38;5;28;01mif\u001b[39;00m \u001b[38;5;129;01mnot\u001b[39;00m (\u001b[38;5;28mself\u001b[39m\u001b[38;5;241m.\u001b[39m_backward_hooks \u001b[38;5;129;01mor\u001b[39;00m \u001b[38;5;28mself\u001b[39m\u001b[38;5;241m.\u001b[39m_backward_pre_hooks \u001b[38;5;129;01mor\u001b[39;00m \u001b[38;5;28mself\u001b[39m\u001b[38;5;241m.\u001b[39m_forward_hooks \u001b[38;5;129;01mor\u001b[39;00m \u001b[38;5;28mself\u001b[39m\u001b[38;5;241m.\u001b[39m_forward_pre_hooks\n",
      "\u001b[0;32m   1745\u001b[0m         \u001b[38;5;129;01mor\u001b[39;00m _global_backward_pre_hooks \u001b[38;5;129;01mor\u001b[39;00m _global_backward_hooks\n",
      "\u001b[0;32m   1746\u001b[0m         \u001b[38;5;129;01mor\u001b[39;00m _global_forward_hooks \u001b[38;5;129;01mor\u001b[39;00m _global_forward_pre_hooks):\n",
      "\u001b[1;32m-> 1747\u001b[0m     \u001b[38;5;28;01mreturn\u001b[39;00m \u001b[43mforward_call\u001b[49m\u001b[43m(\u001b[49m\u001b[38;5;241;43m*\u001b[39;49m\u001b[43margs\u001b[49m\u001b[43m,\u001b[49m\u001b[43m \u001b[49m\u001b[38;5;241;43m*\u001b[39;49m\u001b[38;5;241;43m*\u001b[39;49m\u001b[43mkwargs\u001b[49m\u001b[43m)\u001b[49m\n",
      "\u001b[0;32m   1749\u001b[0m result \u001b[38;5;241m=\u001b[39m \u001b[38;5;28;01mNone\u001b[39;00m\n",
      "\u001b[0;32m   1750\u001b[0m called_always_called_hooks \u001b[38;5;241m=\u001b[39m \u001b[38;5;28mset\u001b[39m()\n",
      "\n",
      "File \u001b[1;32mc:\\Users\\Usuario\\Desktop\\Programacion\\Python\\pyver\\py3127\\Lib\\site-packages\\torch\\nn\\modules\\container.py:250\u001b[0m, in \u001b[0;36mSequential.forward\u001b[1;34m(self, input)\u001b[0m\n",
      "\u001b[0;32m    248\u001b[0m \u001b[38;5;28;01mdef\u001b[39;00m \u001b[38;5;21mforward\u001b[39m(\u001b[38;5;28mself\u001b[39m, \u001b[38;5;28minput\u001b[39m):\n",
      "\u001b[0;32m    249\u001b[0m     \u001b[38;5;28;01mfor\u001b[39;00m module \u001b[38;5;129;01min\u001b[39;00m \u001b[38;5;28mself\u001b[39m:\n",
      "\u001b[1;32m--> 250\u001b[0m         \u001b[38;5;28minput\u001b[39m \u001b[38;5;241m=\u001b[39m \u001b[43mmodule\u001b[49m\u001b[43m(\u001b[49m\u001b[38;5;28;43minput\u001b[39;49m\u001b[43m)\u001b[49m\n",
      "\u001b[0;32m    251\u001b[0m     \u001b[38;5;28;01mreturn\u001b[39;00m \u001b[38;5;28minput\u001b[39m\n",
      "\n",
      "File \u001b[1;32mc:\\Users\\Usuario\\Desktop\\Programacion\\Python\\pyver\\py3127\\Lib\\site-packages\\torch\\nn\\modules\\module.py:1736\u001b[0m, in \u001b[0;36mModule._wrapped_call_impl\u001b[1;34m(self, *args, **kwargs)\u001b[0m\n",
      "\u001b[0;32m   1734\u001b[0m     \u001b[38;5;28;01mreturn\u001b[39;00m \u001b[38;5;28mself\u001b[39m\u001b[38;5;241m.\u001b[39m_compiled_call_impl(\u001b[38;5;241m*\u001b[39margs, \u001b[38;5;241m*\u001b[39m\u001b[38;5;241m*\u001b[39mkwargs)  \u001b[38;5;66;03m# type: ignore[misc]\u001b[39;00m\n",
      "\u001b[0;32m   1735\u001b[0m \u001b[38;5;28;01melse\u001b[39;00m:\n",
      "\u001b[1;32m-> 1736\u001b[0m     \u001b[38;5;28;01mreturn\u001b[39;00m \u001b[38;5;28;43mself\u001b[39;49m\u001b[38;5;241;43m.\u001b[39;49m\u001b[43m_call_impl\u001b[49m\u001b[43m(\u001b[49m\u001b[38;5;241;43m*\u001b[39;49m\u001b[43margs\u001b[49m\u001b[43m,\u001b[49m\u001b[43m \u001b[49m\u001b[38;5;241;43m*\u001b[39;49m\u001b[38;5;241;43m*\u001b[39;49m\u001b[43mkwargs\u001b[49m\u001b[43m)\u001b[49m\n",
      "\n",
      "File \u001b[1;32mc:\\Users\\Usuario\\Desktop\\Programacion\\Python\\pyver\\py3127\\Lib\\site-packages\\torch\\nn\\modules\\module.py:1747\u001b[0m, in \u001b[0;36mModule._call_impl\u001b[1;34m(self, *args, **kwargs)\u001b[0m\n",
      "\u001b[0;32m   1742\u001b[0m \u001b[38;5;66;03m# If we don't have any hooks, we want to skip the rest of the logic in\u001b[39;00m\n",
      "\u001b[0;32m   1743\u001b[0m \u001b[38;5;66;03m# this function, and just call forward.\u001b[39;00m\n",
      "\u001b[0;32m   1744\u001b[0m \u001b[38;5;28;01mif\u001b[39;00m \u001b[38;5;129;01mnot\u001b[39;00m (\u001b[38;5;28mself\u001b[39m\u001b[38;5;241m.\u001b[39m_backward_hooks \u001b[38;5;129;01mor\u001b[39;00m \u001b[38;5;28mself\u001b[39m\u001b[38;5;241m.\u001b[39m_backward_pre_hooks \u001b[38;5;129;01mor\u001b[39;00m \u001b[38;5;28mself\u001b[39m\u001b[38;5;241m.\u001b[39m_forward_hooks \u001b[38;5;129;01mor\u001b[39;00m \u001b[38;5;28mself\u001b[39m\u001b[38;5;241m.\u001b[39m_forward_pre_hooks\n",
      "\u001b[0;32m   1745\u001b[0m         \u001b[38;5;129;01mor\u001b[39;00m _global_backward_pre_hooks \u001b[38;5;129;01mor\u001b[39;00m _global_backward_hooks\n",
      "\u001b[0;32m   1746\u001b[0m         \u001b[38;5;129;01mor\u001b[39;00m _global_forward_hooks \u001b[38;5;129;01mor\u001b[39;00m _global_forward_pre_hooks):\n",
      "\u001b[1;32m-> 1747\u001b[0m     \u001b[38;5;28;01mreturn\u001b[39;00m \u001b[43mforward_call\u001b[49m\u001b[43m(\u001b[49m\u001b[38;5;241;43m*\u001b[39;49m\u001b[43margs\u001b[49m\u001b[43m,\u001b[49m\u001b[43m \u001b[49m\u001b[38;5;241;43m*\u001b[39;49m\u001b[38;5;241;43m*\u001b[39;49m\u001b[43mkwargs\u001b[49m\u001b[43m)\u001b[49m\n",
      "\u001b[0;32m   1749\u001b[0m result \u001b[38;5;241m=\u001b[39m \u001b[38;5;28;01mNone\u001b[39;00m\n",
      "\u001b[0;32m   1750\u001b[0m called_always_called_hooks \u001b[38;5;241m=\u001b[39m \u001b[38;5;28mset\u001b[39m()\n",
      "\n",
      "File \u001b[1;32mc:\\Users\\Usuario\\Desktop\\Programacion\\Python\\pyver\\py3127\\Lib\\site-packages\\torch\\nn\\modules\\linear.py:125\u001b[0m, in \u001b[0;36mLinear.forward\u001b[1;34m(self, input)\u001b[0m\n",
      "\u001b[0;32m    124\u001b[0m \u001b[38;5;28;01mdef\u001b[39;00m \u001b[38;5;21mforward\u001b[39m(\u001b[38;5;28mself\u001b[39m, \u001b[38;5;28minput\u001b[39m: Tensor) \u001b[38;5;241m-\u001b[39m\u001b[38;5;241m>\u001b[39m Tensor:\n",
      "\u001b[1;32m--> 125\u001b[0m     \u001b[38;5;28;01mreturn\u001b[39;00m \u001b[43mF\u001b[49m\u001b[38;5;241;43m.\u001b[39;49m\u001b[43mlinear\u001b[49m\u001b[43m(\u001b[49m\u001b[38;5;28;43minput\u001b[39;49m\u001b[43m,\u001b[49m\u001b[43m \u001b[49m\u001b[38;5;28;43mself\u001b[39;49m\u001b[38;5;241;43m.\u001b[39;49m\u001b[43mweight\u001b[49m\u001b[43m,\u001b[49m\u001b[43m \u001b[49m\u001b[38;5;28;43mself\u001b[39;49m\u001b[38;5;241;43m.\u001b[39;49m\u001b[43mbias\u001b[49m\u001b[43m)\u001b[49m\n",
      "\n",
      "\u001b[1;31mKeyboardInterrupt\u001b[0m: "
     ]
    }
   ],
   "source": [
    "epsilon_original = dqnagent_matrix.epsilon\n",
    "dqnagent_matrix.epsilon = 0\n",
    "game1.evaluar(100)"
   ]
  },
  {
   "cell_type": "code",
   "execution_count": null,
   "metadata": {},
   "outputs": [],
   "source": [
    "dqnagent_matrix.epsilon = epsilon_original"
   ]
  },
  {
   "cell_type": "markdown",
   "metadata": {},
   "source": [
    "### 2.2. Agente de Reinforcement Learning con modelo de Deep Q-Networks.\n",
    "#### State: 8 Neuronas\n",
    "\n",
    "En este caso decidimos disminuir en gran cantidad el número de neuronas de entrada. Decidimos colocar solo 8 neuronas, que están distribuidas de la siguiente manera:\n",
    "- 4 Neuronas de peligros inmediatos. Para saber en qué direcciones tiene muerte directa.\n",
    "- 4 Neuronas de dirección de comida. En este caso si nuestra cabeza está en (2,2) y la comida en (3,4) significa que está hacia la derecha y hacia abajo. \n"
   ]
  },
  {
   "cell_type": "code",
   "execution_count": null,
   "metadata": {},
   "outputs": [],
   "source": [
    "dqnagent8n = dependencias.Agentes.DQNAgentN(\n",
    "    gamma=0.99,\n",
    "    epsilon=1.0,\n",
    "    epsilon_min=0.1,\n",
    "    epsilon_decay=0.995,\n",
    "    learning_rate=0.001,\n",
    "    input_dim=8,          # Updated input_dim\n",
    "    hidden_dim=128,\n",
    "    n_actions=4,      \n",
    "    batch_size=128,\n",
    "    mem_size=10000,\n",
    "    target_update_freq=100,\n",
    "    checkpoint_dir='new_checkpoints',\n",
    "    state_function=state_function_8n\n",
    ")\n"
   ]
  },
  {
   "cell_type": "code",
   "execution_count": null,
   "metadata": {},
   "outputs": [],
   "source": [
    "game2 = juegorl.Snake_game((10, 10), 1, dqnagent8n)"
   ]
  },
  {
   "cell_type": "code",
   "execution_count": null,
   "metadata": {},
   "outputs": [],
   "source": [
    "n_games = 0\n",
    "total_score = 0\n",
    "plot_epsilons = []\n",
    "plot_scores = []\n",
    "plot_mean_scores = []"
   ]
  },
  {
   "cell_type": "code",
   "execution_count": null,
   "metadata": {},
   "outputs": [
    {
     "data": {
      "text/plain": [
       "<Figure size 640x480 with 0 Axes>"
      ]
     },
     "metadata": {},
     "output_type": "display_data"
    },
    {
     "data": {
      "image/png": "[encoded data removed]",
      "text/plain": [
       "<Figure size 640x480 with 1 Axes>"
      ]
     },
     "metadata": {},
     "output_type": "display_data"
    }
   ],
   "source": [
    "train_rl_agent(250, 250, game2, dqnagent8n, state_function_8n, n_games, total_score, plot_epsilons, plot_scores, plot_mean_scores)"
   ]
  },
  {
   "cell_type": "code",
   "execution_count": null,
   "metadata": {},
   "outputs": [
    {
     "name": "stdout",
     "output_type": "stream",
     "text": [
      "Checkpoint saved at Episode 500 with Mean Score 4.68\n"
     ]
    }
   ],
   "source": [
    "dqnagent8n.save_checkpoint(episode=500, N=8, mean_score=4.68)"
   ]
  },
  {
   "cell_type": "markdown",
   "metadata": {},
   "source": [
    "En este modelo con tan solo 8 neuronas sí que vemos un proceso de aprendizaje de la red, hasta que se queda en torno a los 4.5-5.\n",
    "\n",
    "Sin embargo, esta media es engañosa porque al tener un épsilon de 0.1, siguen habiendo un 2.5% de probabilidades de que se mate a sí misma en cada paso.\n",
    "\n",
    "Si jugamos con un épsilon de 0 vemos que no es para nada el caso y que en realidad consigue puntajes bastante elevados."
   ]
  },
  {
   "cell_type": "code",
   "execution_count": null,
   "metadata": {},
   "outputs": [],
   "source": [
    "game2.state.reset()\n",
    "game2.play_with_pygame()"
   ]
  },
  {
   "cell_type": "code",
   "execution_count": null,
   "metadata": {},
   "outputs": [
    {
     "name": "stderr",
     "output_type": "stream",
     "text": [
      "100%|██████████| 100/100 [00:03<00:00, 26.45it/s]\n"
     ]
    },
    {
     "data": {
      "text/plain": [
       "{'puntuacion_media': 20.33,\n",
       " 'puntuacion_maxima': 40,\n",
       " 'puntuacion_minima': 7,\n",
       " 'movimientos_medios': 150.33,\n",
       " 'movimientos_maximos': 368,\n",
       " 'movimientos_minimos': 19,\n",
       " 'movimientos por puntuacion': 7,\n",
       " 'proporcion_del_tablero_ocupada': 0.19}"
      ]
     },
     "metadata": {},
     "output_type": "display_data"
    }
   ],
   "source": [
    "epsilon_original = dqnagent8n.epsilon\n",
    "dqnagent8n.epsilon = 0\n",
    "game2.evaluar(100)"
   ]
  },
  {
   "cell_type": "markdown",
   "metadata": {},
   "source": [
    "Aquí podemos ver que incluso ha llegado a 40 de puntuación y tiene una media de 20 de puntuación por partida."
   ]
  },
  {
   "cell_type": "code",
   "execution_count": null,
   "metadata": {},
   "outputs": [],
   "source": [
    "dqnagent8n.epsilon = epsilon_original"
   ]
  },
  {
   "cell_type": "markdown",
   "metadata": {},
   "source": [
    "### 2.3. Agente de Reinforcement Learning con modelo de Deep Q-Networks.\n",
    "#### State: 15 Neuronas\n",
    "\n",
    "Este es el último modelo probado, en el que el input que ponemos es de 15 neuronas. Están de la siguiente manera:\n",
    "\n",
    "- 3 neuronas de peligro: Esta vez solo mira los peligros que tiene delante (la dirección a la que está mirando) y a los lados. Hacia detrás no hace falta porque ya aprende sola la red con la experiencia. Esto es porque da igual la combinación que tenga, tirar hacia detrás será castigo de 1 punto siempre.\n",
    "- 4 neuronas de dirección: Indica la dirección a la que está yendo la serpiente. Es básicamente un one-hot en el que si va hacia arriba \n",
    "- 4 neuronas de dirección de comida: Igual que antes, en qué direcciones se encuentra la comida.\n",
    "- 4 neuronas de búsqueda en anchura: Mira a todas la direcciones cuál es la que tiene más espacios accesibles. Evita bastante el hecho de que se meta dentro de su propio cuerpo y se muera sola."
   ]
  },
  {
   "cell_type": "code",
   "execution_count": null,
   "metadata": {},
   "outputs": [],
   "source": [
    "dqnagent15n = dependencias.Agentes.DQNAgentN(\n",
    "    gamma=0.99,\n",
    "    epsilon=1.0,\n",
    "    epsilon_min=0.1,\n",
    "    epsilon_decay=0.995,\n",
    "    learning_rate=0.0005,\n",
    "    input_dim=15,          # Updated input_dim\n",
    "    hidden_dim=256,\n",
    "    n_actions=4,      \n",
    "    batch_size=128,\n",
    "    mem_size=50000,\n",
    "    target_update_freq=100,\n",
    "    checkpoint_dir='new_checkpoints',\n",
    "    state_function=state_function_15\n",
    ")"
   ]
  },
  {
   "cell_type": "code",
   "execution_count": null,
   "metadata": {},
   "outputs": [],
   "source": [
    "game3 = juegorl.Snake_game((10, 10), 1, dqnagent15n)"
   ]
  },
  {
   "cell_type": "code",
   "execution_count": null,
   "metadata": {},
   "outputs": [],
   "source": [
    "n_games = 0\n",
    "total_score = 0\n",
    "plot_epsilons = []\n",
    "plot_scores = []\n",
    "plot_mean_scores = []"
   ]
  },
  {
   "cell_type": "code",
   "execution_count": null,
   "metadata": {},
   "outputs": [
    {
     "data": {
      "text/plain": [
       "<Figure size 640x480 with 0 Axes>"
      ]
     },
     "metadata": {},
     "output_type": "display_data"
    },
    {
     "data": {
      "image/png": "[encoded data removed]",
      "text/plain": [
       "<Figure size 640x480 with 1 Axes>"
      ]
     },
     "metadata": {},
     "output_type": "display_data"
    }
   ],
   "source": [
    "train_rl_agent(750, 250, game3, dqnagent15n, state_function_15, n_games, total_score, plot_epsilons, plot_scores, plot_mean_scores)"
   ]
  },
  {
   "cell_type": "markdown",
   "metadata": {},
   "source": [
    "En este modelo de 15 neuronas también vemos un aprendizaje de la red, ligeramenta superior al de 8 neuronas, ya que su rango se mantiene en torno a los 5-7.\n",
    "\n",
    "Esta media también es engañosa por el épsilon 0.1 pero así que es mejor hacer un evaluate.."
   ]
  },
  {
   "cell_type": "code",
   "execution_count": null,
   "metadata": {},
   "outputs": [],
   "source": [
    "game3.state.reset()\n",
    "game3.play_with_pygame()"
   ]
  },
  {
   "cell_type": "markdown",
   "metadata": {},
   "source": [
    "Si vemos su partida podemos observar un gameplay un poco distinto al del de 8 neuronas, ya que el otro iba de manera más lineal y no jugaba tanto a enrollarse. Este modelo se enrolla mucho para no morir aunque suele morir dividiendo el mapa con su cuerpo en dos partes y no pudiendo escapar de ahí.\n",
    "\n",
    "\n",
    "Hemos visto que este modelo se puede llegar a quedar en bucles así que le hemos puesto un epsilon de 0.001 por si acaso se queda pillado. \n",
    "Por lo general vemos una mejor media que en las otras redes, siendo esta de 31 frente a la media de 20 de la de 8 neuronas."
   ]
  },
  {
   "cell_type": "code",
   "execution_count": null,
   "metadata": {},
   "outputs": [
    {
     "name": "stderr",
     "output_type": "stream",
     "text": [
      "100%|██████████| 100/100 [00:25<00:00,  3.98it/s]\n"
     ]
    },
    {
     "data": {
      "text/plain": [
       "{'puntuacion_media': 31.09,\n",
       " 'puntuacion_maxima': 48,\n",
       " 'puntuacion_minima': 6,\n",
       " 'movimientos_medios': 322.01,\n",
       " 'movimientos_maximos': 677,\n",
       " 'movimientos_minimos': 23,\n",
       " 'movimientos por puntuacion': 10,\n",
       " 'proporcion_del_tablero_ocupada': 0.36}"
      ]
     },
     "metadata": {},
     "output_type": "display_data"
    }
   ],
   "source": [
    "epsilon_original = dqnagent15n.epsilon\n",
    "dqnagent15n.epsilon = 0.001\n",
    "game3.evaluar(100)"
   ]
  },
  {
   "cell_type": "code",
   "execution_count": null,
   "metadata": {},
   "outputs": [],
   "source": [
    "dqnagent15n.epsilon = epsilon_original"
   ]
  },
  {
   "cell_type": "markdown",
   "metadata": {},
   "source": [
    "### 2.4. Cargar modelos con los que hemos jugado nosotros.\n",
    "Por si quieres probar los modelos con los que hemos jugado."
   ]
  },
  {
   "cell_type": "code",
   "execution_count": null,
   "metadata": {},
   "outputs": [
    {
     "name": "stdout",
     "output_type": "stream",
     "text": [
      "Checkpoint loaded from Episode 750 with Mean Score 6.04\n"
     ]
    }
   ],
   "source": [
    "# MODELO 15 NEURONAS\n",
    "load_dqnagent1 = dependencias.Agentes.DQNAgentN(\n",
    "    gamma=0.99,\n",
    "    epsilon=1.0,\n",
    "    epsilon_min=0.025,          # Valor mínimo de epsilon ajustado a 0.025\n",
    "    epsilon_decay=0.995,        # Decaimiento más lento\n",
    "    learning_rate=0.0005,       # Tasa de aprendizaje ajustada\n",
    "    input_dim=15,               # Actualizado según la nueva representación del estado\n",
    "    hidden_dim=256,\n",
    "    n_actions=4,      \n",
    "    batch_size=128,             # Aumentado de 64 a 128\n",
    "    mem_size=50000,             # Aumentado de 10000 a 50000\n",
    "    target_update_freq=1000,    # Actualizado para coincidir con el scheduler\n",
    "    checkpoint_dir='new_checkpoints',\n",
    "    state_function=state_function_15\n",
    ")\n",
    "\n",
    "# Ruta al checkpoint que deseas cargar\n",
    "checkpoint_path = 'checkpoints/dqn15N_ep750_sc6.04.pth'\n",
    "\n",
    "load_dqnagent1.load_checkpoint(checkpoint_path)\n",
    "load_dqnagent1.epsilon = 0.001\n"
   ]
  },
  {
   "cell_type": "markdown",
   "metadata": {},
   "source": [
    "**Si se queda en bucle sube el epsilon a 0.001-0.005, bajará un poco la media pero escapará de bucles**"
   ]
  },
  {
   "cell_type": "code",
   "execution_count": null,
   "metadata": {},
   "outputs": [
    {
     "name": "stderr",
     "output_type": "stream",
     "text": [
      "100%|██████████| 100/100 [00:23<00:00,  4.17it/s]\n"
     ]
    },
    {
     "data": {
      "text/plain": [
       "{'puntuacion_media': 31.27,\n",
       " 'puntuacion_maxima': 48,\n",
       " 'puntuacion_minima': 4,\n",
       " 'movimientos_medios': 333.55,\n",
       " 'movimientos_maximos': 843,\n",
       " 'movimientos_minimos': 12,\n",
       " 'movimientos por puntuacion': 11,\n",
       " 'proporcion_del_tablero_ocupada': 0.25}"
      ]
     },
     "metadata": {},
     "output_type": "display_data"
    }
   ],
   "source": [
    "game_load1 = juegorl.Snake_game((10, 10), 1, load_dqnagent1)\n",
    "\n",
    "game_load1.evaluar(100)"
   ]
  },
  {
   "cell_type": "code",
   "execution_count": null,
   "metadata": {},
   "outputs": [],
   "source": [
    "game_load1.state.reset()\n",
    "game_load1.play_with_pygame()"
   ]
  },
  {
   "cell_type": "code",
   "execution_count": null,
   "metadata": {},
   "outputs": [
    {
     "name": "stdout",
     "output_type": "stream",
     "text": [
      "Checkpoint loaded from Episode 500 with Mean Score 4.68\n"
     ]
    }
   ],
   "source": [
    "# MODELO 8 NEURONAS\n",
    "load_dqnagent2 = dependencias.Agentes.DQNAgentN(\n",
    "    gamma=0.99,\n",
    "    epsilon=1.0,\n",
    "    epsilon_min=0.025,          # Valor mínimo de epsilon ajustado a 0.025\n",
    "    epsilon_decay=0.995,        # Decaimiento más lento\n",
    "    learning_rate=0.0005,       # Tasa de aprendizaje ajustada\n",
    "    input_dim=8,               # Actualizado según la nueva representación del estado\n",
    "    hidden_dim=128,\n",
    "    n_actions=4,      \n",
    "    batch_size=128,             # Aumentado de 64 a 128\n",
    "    mem_size=50000,             # Aumentado de 10000 a 50000\n",
    "    target_update_freq=1000,    # Actualizado para coincidir con el scheduler\n",
    "    checkpoint_dir='new_checkpoints',\n",
    "    state_function=state_function_8n\n",
    ")\n",
    "\n",
    "# Ruta al checkpoint que deseas cargar\n",
    "checkpoint_path = 'checkpoints/dqn8N_ep500_sc4.68.pth'\n",
    "\n",
    "load_dqnagent2.load_checkpoint(checkpoint_path)\n",
    "load_dqnagent2.epsilon = 0\n"
   ]
  },
  {
   "cell_type": "markdown",
   "metadata": {},
   "source": [
    "**Si se queda en bucle sube el epsilon a 0.001-0.005, bajará un poco la media pero escapará de bucles**"
   ]
  },
  {
   "cell_type": "code",
   "execution_count": null,
   "metadata": {},
   "outputs": [
    {
     "name": "stderr",
     "output_type": "stream",
     "text": [
      "100%|██████████| 100/100 [00:04<00:00, 23.45it/s]\n"
     ]
    },
    {
     "data": {
      "text/plain": [
       "{'puntuacion_media': 20.48,\n",
       " 'puntuacion_maxima': 36,\n",
       " 'puntuacion_minima': 6,\n",
       " 'movimientos_medios': 150.22,\n",
       " 'movimientos_maximos': 281,\n",
       " 'movimientos_minimos': 27,\n",
       " 'movimientos por puntuacion': 7,\n",
       " 'proporcion_del_tablero_ocupada': 0.22}"
      ]
     },
     "metadata": {},
     "output_type": "display_data"
    }
   ],
   "source": [
    "game_load2 = juegorl.Snake_game((10, 10), 1, load_dqnagent2)\n",
    "\n",
    "game_load2.evaluar(100)"
   ]
  },
  {
   "cell_type": "code",
   "execution_count": null,
   "metadata": {},
   "outputs": [],
   "source": [
    "game_load2.state.reset()\n",
    "game_load2.play_with_pygame()"
   ]
  },
  {
   "cell_type": "markdown",
   "metadata": {},
   "source": [
    "## Conclusiones\n",
    "Los Agentes entrenados mediante aprendizaje reforzado no son tan potentes como los que siguen heurísticas, pero creemos que son muy interesantes y que tienen mucho potencial de mejora si se optimizan bien los parámetros y se define un buen conjunto de neuronas."
   ]
  },
  {
   "cell_type": "markdown",
   "metadata": {},
   "source": [
    "## Módulo Multijugador\n"
   ]
  },
  {
   "cell_type": "markdown",
   "metadata": {},
   "source": [
    "Hasta el momento hemos podido comparar estrategias entre ellas, valorando cuales obtienen mejores resultados en partidas unijugador. Podría ser intuitivo pensar que las buenas estrategias del modo unijugador seguirán siendo buenas en el modo multijugador pero ¿es esto cierto en el Snake? <br>\n",
    "... <br>\n",
    "Para responder a esta pregunta hemos reprogramado el archivo **juego_base.py** para que pueda soportar varios agentes. El nuevo archivo tiene como nombre **juego_base_multijugador.py** (muy intuitivo). Los principales cambios realizados son los que siguen:\n",
    "<br>\n",
    "<img src= \"media\\imagenes\\FormatoSnake.png\" width= 370 style=\"float: right;\">\n",
    "\n",
    "1. La información de las serpientes, que antes era una lista de tuplas con coordenadas, ahora es una lista de listas de tuplas, donde cada lista contiene una serpiente diferente. *(ver figura a la derecha)* ------->\n",
    "\n",
    "2. Creamos una lista con todos los agentes, que podemos iterarar para obtener la acciones que realizan en cada ronda.\n",
    "\n",
    "3. Los agentes necesitan tener algo que los identifique, por eso se añaden **números ID**. Al invocar un agente, debes meter un número ID único que lo distinga del resto. De esta forma, podemos realizar eliminaciones de agentes por ID o mostrar el ganador al final de una partida.\n",
    "\n",
    "4. El método upload(action) pasa a recibir una lista de acciones en vez de una única acción, y actúa cambiando el estado del tablero cuando las serpientes realizan esas acciones.\n",
    "\n",
    "5. La nueva variable **self.bodies** contiene las coordenadas de TODOS los cuerpos. Así, es fácil comprender cuando una <br> serpiente choca con una porción de cuerpo, dando igual a quién le pertenezca el cacho.\n",
    "\n",
    "6. Las posiciones de comienzo de los agentes varían con respecto al número de agentes usados. Hasta 4 agentes, se rellenan las esquinas del tablero. De 4 a 8 agentes se añaden puntos de comienzo en las mitades de los lados.\n",
    "\n",
    "7. La condición de victoria ahora es aguantar hasta que el resto de serpientes mueran y ser el último en el tablero. Esto se da cuando la longitud de la lista de snakes es 1, que se traduce en un solo jugador. Cuando esto ocurre, el juego acaba y se devuelve el ID de la serpiente ganadora.\n",
    "\n",
    "8. Como detalle estético, usamos los IDs multplicados por ciertas cantidades para establecer el código RGB de los agentes. Puesto que cada agente tiene un ID único, el color de su cuerpo también lo será y se mostrará diferente al resto durante la partida.\n",
    "\n",
    "*NOTA: Cuando dos serpientes choquen sus cabezas, la más grande se comerá a la pequeña.*"
   ]
  },
  {
   "cell_type": "markdown",
   "metadata": {},
   "source": [
    "Con todos estos cambios hechos, obtenemos un juego base capaz de gestionar los agentes. Ahora, toca ajustar los agentes para que tengan en cuenta el resto de cuerpos aparte del propio, y sepan actuar al respecto. <br>\n",
    "Los cambios que se realizan en la heurística de los agentes son triviales, pues solo hay que usar la lista de bodies para entender las posiciones del resto de jugadores, y los pesos se distribuyen de forma consecuente al tipo de heurística."
   ]
  },
  {
   "cell_type": "markdown",
   "metadata": {},
   "source": [
    "### Avoider Multijugador\n",
    "Cambiando el modelo **avoider** obtenemos el increíble **AVOIDER MULTIJUGADOR** (sí, en mayúsculas). Actúa igual que el avoider, pero adaptado para poder interactuar con otros agentes. <br>\n",
    "Ejecuta la siguiente celda para probar la **primera partida multijugador**."
   ]
  },
  {
   "cell_type": "code",
   "execution_count": null,
   "metadata": {},
   "outputs": [
    {
     "name": "stdout",
     "output_type": "stream",
     "text": [
      "El ganador es: Snake1234\n"
     ]
    }
   ],
   "source": [
    "import dependencias\n",
    "\n",
    "# Definimos nuestros agentes\n",
    "Borja = dependencias.Agentes_multiplayer.Avoid_inmediate_death_Mp(4321)\n",
    "Benjamin = dependencias.Agentes_multiplayer.Avoid_inmediate_death_Mp(1234)\n",
    "\n",
    "# Creamos el juego\n",
    "game = dependencias.Snake_game_MultiPlayer((25, 25), 40, [Borja, Benjamin])  # Ponemos mucha comida, para que se la encuentren sin querer\n",
    "\n",
    "# Ejecutamos\n",
    "game.play_with_pygame()"
   ]
  },
  {
   "cell_type": "markdown",
   "metadata": {},
   "source": [
    "No hay gran cambio en como actúan con respecto a partidas de un jugador, puesto que no tienen muchas cosas en cuenta."
   ]
  },
  {
   "cell_type": "markdown",
   "metadata": {},
   "source": [
    "### Chaser Multijugador\n",
    "Con un par de cambios en el modelo **chaser** obtenemos nuestro primer **CHASER MULTIJUGADOR**. Veamos una partida entre ellos."
   ]
  },
  {
   "cell_type": "code",
   "execution_count": null,
   "metadata": {},
   "outputs": [
    {
     "name": "stdout",
     "output_type": "stream",
     "text": [
      "El ganador es: Snake728\n"
     ]
    }
   ],
   "source": [
    "import dependencias\n",
    "\n",
    "# Definimos nuestros agentes\n",
    "Ortega = dependencias.Agentes_multiplayer.ChaserAgentMp(231)\n",
    "Gasset = dependencias.Agentes_multiplayer.ChaserAgentMp(728)\n",
    "\n",
    "# Creamos el juego\n",
    "game = dependencias.Snake_game_MultiPlayer((25, 25), 5, [Ortega, Gasset])\n",
    "\n",
    "# Ejecutamos\n",
    "game.play_with_pygame()  # Es normal que las partidas acaben casi instantáneamente, pues estos agentes no saben esquivar la muerte."
   ]
  },
  {
   "cell_type": "markdown",
   "metadata": {},
   "source": [
    "Efectivamente, los chaser siguen siendo \"malos\" pues no evitan la muerte."
   ]
  },
  {
   "cell_type": "markdown",
   "metadata": {},
   "source": [
    "## Combinación de Agentes"
   ]
  },
  {
   "cell_type": "markdown",
   "metadata": {},
   "source": [
    "### Chowder Multijugador"
   ]
  },
  {
   "cell_type": "markdown",
   "metadata": {},
   "source": [
    "Como se pudo ver en el módulo de agentes de un solo jugador, las mejores estrategias surgen de mezclar otras más pequeñas. Implementemos eso en multijugador. La mecánica será la misma, mediante unos pesos se hacen sumas ponderadas de las heurísticas y se elige la opción más puntuada. Probemos a mergear un AVOIDER MULTIPLAYER con un CHASER MULTIPLAYER, creando un **CHOWDER MULTIPLAYER**. <br>\n",
    "Ahora vamos a enfrentar dos de estos modelos usando distintos pesos. <br> <br>\n",
    "*Nota: Como se aprecia en el código, tanto el agente combinado como sus subagentes deben usar el mismo ID para que el código funcione y se asocien entre ellos*"
   ]
  },
  {
   "cell_type": "code",
   "execution_count": null,
   "metadata": {},
   "outputs": [
    {
     "name": "stdout",
     "output_type": "stream",
     "text": [
      "El ganador es: Snake33333\n"
     ]
    }
   ],
   "source": [
    "import dependencias\n",
    "\n",
    "Ortega1 = dependencias.Agentes_multiplayer.ChaserAgentMp(33333)\n",
    "Borja1 = dependencias.Agentes_multiplayer.Avoid_inmediate_death_Mp(33333)\n",
    "Ortega2 = dependencias.Agentes_multiplayer.ChaserAgentMp(44444)\n",
    "Borja2 = dependencias.Agentes_multiplayer.Avoid_inmediate_death_Mp(44444)\n",
    "\n",
    "chowder = dependencias.Agentes_multiplayer.Combined_agent_Mp(agentes = [Ortega1, Borja1], weights = (0.5, 1), id = 33333)  # Combinamos con pesos\n",
    "chowdar = dependencias.Agentes_multiplayer.Combined_agent_Mp(agentes = [Ortega2, Borja2], weights = (1, 0.5), id = 44444)\n",
    "\n",
    "\n",
    "game = dependencias.Snake_game_MultiPlayer((25, 25), 5, [chowder, chowdar])\n",
    "\n",
    "game.play_with_pygame()"
   ]
  },
  {
   "cell_type": "markdown",
   "metadata": {},
   "source": [
    "Se empiezan a ver resultados. Estos agentes ya empiezan a ser relativamente buenos, evitando la muerte y persiguiendo la comida. Solo con esto, ya podemos enfrentar muchos agentes combinados con distintos pesos para ver las mezclas que más funcionan. Aprovechemos el momento también para ampliar el número de jugadores. Veamos una partida entre 5 jugadores."
   ]
  },
  {
   "cell_type": "code",
   "execution_count": null,
   "metadata": {},
   "outputs": [
    {
     "name": "stdout",
     "output_type": "stream",
     "text": [
      "El ganador es: Snake55\n"
     ]
    }
   ],
   "source": [
    "import dependencias\n",
    "\n",
    "Ortega1 = dependencias.Agentes_multiplayer.ChaserAgentMp(11)\n",
    "Borja1 = dependencias.Agentes_multiplayer.Avoid_inmediate_death_Mp(11)\n",
    "Ortega2 = dependencias.Agentes_multiplayer.ChaserAgentMp(22)\n",
    "Borja2 = dependencias.Agentes_multiplayer.Avoid_inmediate_death_Mp(22)\n",
    "Ortega3 = dependencias.Agentes_multiplayer.ChaserAgentMp(33)\n",
    "Borja3 = dependencias.Agentes_multiplayer.Avoid_inmediate_death_Mp(33)\n",
    "Ortega4 = dependencias.Agentes_multiplayer.ChaserAgentMp(44)\n",
    "Borja4 = dependencias.Agentes_multiplayer.Avoid_inmediate_death_Mp(44)\n",
    "Ortega5 = dependencias.Agentes_multiplayer.ChaserAgentMp(55)\n",
    "Borja5 = dependencias.Agentes_multiplayer.Avoid_inmediate_death_Mp(55)\n",
    "\n",
    "chowder1 = dependencias.Agentes_multiplayer.Combined_agent_Mp(agentes = [Ortega1, Borja1], weights = (0.5, 1), id = 11)\n",
    "chowder2 = dependencias.Agentes_multiplayer.Combined_agent_Mp(agentes = [Ortega2, Borja2], weights = (0.5, 1.2), id = 22)\n",
    "chowder3 = dependencias.Agentes_multiplayer.Combined_agent_Mp(agentes = [Ortega3, Borja3], weights = (0.3, 1.1), id = 33)\n",
    "chowder4 = dependencias.Agentes_multiplayer.Combined_agent_Mp(agentes = [Ortega4, Borja4], weights = (0.4, 0.9), id = 44)\n",
    "chowder5 = dependencias.Agentes_multiplayer.Combined_agent_Mp(agentes = [Ortega5, Borja5], weights = (0.6, 1.5), id = 55)\n",
    "\n",
    "game = dependencias.Snake_game_MultiPlayer((40, 40), 15, [chowder1, chowder2, chowder3, chowder4, chowder5])\n",
    "\n",
    "game.play_with_pygame()"
   ]
  },
  {
   "cell_type": "markdown",
   "metadata": {},
   "source": [
    "### Deep-Chowder y Tail-Chasser\n"
   ]
  },
  {
   "cell_type": "markdown",
   "metadata": {},
   "source": [
    "Mezclando el Chowder con un modelo de búsqueda profunda obtenemos Deep-Chowder. Vamos a probarlo enfrentandolo contra un chowder normal."
   ]
  },
  {
   "cell_type": "code",
   "execution_count": null,
   "metadata": {},
   "outputs": [
    {
     "name": "stdout",
     "output_type": "stream",
     "text": [
      "El ganador es: Snake69\n"
     ]
    }
   ],
   "source": [
    "import dependencias\n",
    "\n",
    "Ortega1 = dependencias.Agentes_multiplayer.ChaserAgentMp(11)\n",
    "Borja1 = dependencias.Agentes_multiplayer.Avoid_inmediate_death_Mp(11)\n",
    "chowder1 = dependencias.Agentes_multiplayer.Combined_agent_Mp(agentes = [Ortega1, Borja1], weights = (0.5, 1), id = 11)\n",
    "\n",
    "avoider = dependencias.Agentes_multiplayer.Avoid_inmediate_death_Mp(69)\n",
    "deeper = dependencias.Agentes_multiplayer.Busqueda_anchura_Mp(69)\n",
    "chaser = dependencias.Agentes_multiplayer.ChaserAgentMp(69)\n",
    "\n",
    "deep_chowder = dependencias.Agentes_multiplayer.Combined_agent_Mp(agentes = [avoider, deeper, chaser], weights = (1, 2, 0.5), id = 69)\n",
    "\n",
    "game = dependencias.Snake_game_MultiPlayer((25, 25), 5, [chowder1, deep_chowder])\n",
    "\n",
    "game.play_with_pygame()  # Suele ganar el modelo Deep_Chowder (Snake69)"
   ]
  },
  {
   "cell_type": "markdown",
   "metadata": {},
   "source": [
    "El modelo Deep_Chowder sale de manera satisfactoria de las situaciones complicadas que le genera la otra serpiente. Salvo en situaciones contadas de mala suerte, Deep_Chowder se libra de encerronas de Chowder, mientras que a la inversa no ocurre.\n",
    "<br><br>\n",
    "Entre tantas pruebas se va visualizando una conclusión final. Efectivamente, los modelos buenos unijugador acaban siendo buenos también contra otros jugadores. Cuánto más trabajamos en los parámetros de un modelo, los ajustamos, y usamos distintos sub-agentes, mejor acaba siendo el modelo al enfrentarlo contra otros jugadores. <br>\n",
    "<br>\n",
    "Implementamos el Tail_Chasser y lo probamos añadiéndolo a Deep_Chowder. "
   ]
  },
  {
   "cell_type": "code",
   "execution_count": null,
   "metadata": {},
   "outputs": [
    {
     "name": "stdout",
     "output_type": "stream",
     "text": [
      "El ganador es: Snake99\n"
     ]
    }
   ],
   "source": [
    "import dependencias\n",
    "\n",
    "tail_chasser = dependencias.Agentes_multiplayer.Tail_Chasser_Mp(99)\n",
    "avoiderh = dependencias.Agentes_multiplayer.Avoid_inmediate_death_Mp(99)\n",
    "deeperh = dependencias.Agentes_multiplayer.Busqueda_anchura_Mp(99)\n",
    "chaserh = dependencias.Agentes_multiplayer.ChaserAgentMp(99)\n",
    "\n",
    "deep_chowder_tail = dependencias.Agentes_multiplayer.Combined_agent_Mp(agentes = [avoiderh, deeperh, chaserh, tail_chasser], weights = (1, 2, 0.5, 3), id = 99)\n",
    "\n",
    "game = dependencias.Snake_game_MultiPlayer((25, 25), 5, [chowder1, chowder2, deep_chowder, deep_chowder_tail])  # Lo enfrentamos contra chowders y deepchowders \n",
    "\n",
    "game.play_with_pygame()"
   ]
  },
  {
   "cell_type": "markdown",
   "metadata": {},
   "source": [
    "En el caso del Tail_Chasser, podemos observar que pese a ser muy bueno en unijugador no aporta mucho en multijugador pues las situaciones con poco espacio (donde es bueno este modelo) casi no se producen."
   ]
  },
  {
   "cell_type": "markdown",
   "metadata": {},
   "source": [
    "## Reflexión Final"
   ]
  },
  {
   "cell_type": "markdown",
   "metadata": {},
   "source": [
    "Hemos comprobado la hipótesis propuesta al inicio del módulo. Sin embargo, en el proceso de construir este trabajo, descubrimos que el juego Snake encierra una profundidad insospechada. Lo que parecía un simple ejercicio técnico nos abrió las puertas a un vasto campo de estudio: desde las relaciones entre distintos modelos de serpientes hasta la influencia decisiva de las características del tablero en el rendimiento de estas.\n",
    "\n",
    "Snake, un juego que inicialmente concebimos como un tablero de píxeles con reglas sencillas, resultó ser un microcosmos de posibilidades. ¿No es fascinante cómo un sistema tan pequeño puede encapsular principios aplicables a problemas más grandes, incluso personales? Quizás, en cada giro y movimiento de la serpiente, se esconden patrones que resuenan con la forma en que enfrentamos desafíos, tomamos decisiones y navegamos por la incertidumbre de la vida misma. Quizás, Eva solo intentaba seguir los pasos de un ente omnipotente con conocimientos ancestrales.\n",
    "\n",
    "Al final, tal vez Snake nunca fue solo un juego. Tal vez sea una metáfora: una lección sobre cómo incluso los sistemas más aparentemente simples contienen complejidades que nos desafían a mirar más allá de lo evidente, a ser pacientes, estratégicos, y, sobre todo, humildes ante lo que creíamos entender por completo. Porque, al igual que la serpiente, nosotros también seguimos creciendo, aprendiendo y buscando el equilibrio en cada movimiento.\n",
    "<br>"
   ]
  },
  {
   "cell_type": "markdown",
   "metadata": {},
   "source": [
    "<center>\n",
    "<b>Un trabajo por:</b> <br><br>\n",
    "Álvaro Ramiro <br>\n",
    "\n",
    "Jordi Hamberg <br>\n",
    "\n",
    "Héctor Sancho <br><br>\n",
    "\n",
    " <br><br>\n",
    "<img src= \"media\\imagenes\\Logo.jpg\" width = 300>\n",
    "\n",
    "<br>\n",
    "<br>\n",
    "<br>\n",
    "<br>\n",
    "<br>\n",
    "<br>\n",
    "<br>\n",
    "<br>\n",
    "<i>Larga vida a Senollop co.</i>\n",
    "</center>\n",
    "\n"
   ]
  }
 ],
 "metadata": {
  "kernelspec": {
   "display_name": "Python 3",
   "language": "python",
   "name": "python3"
  },
  "language_info": {
   "codemirror_mode": {
    "name": "ipython",
    "version": 3
   },
   "file_extension": ".py",
   "mimetype": "text/x-python",
   "name": "python",
   "nbconvert_exporter": "python",
   "pygments_lexer": "ipython3",
   "version": "3.11.9"
  }
 },
 "nbformat": 4,
 "nbformat_minor": 2
}
