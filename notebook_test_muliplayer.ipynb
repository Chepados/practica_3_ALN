{
 "cells": [
  {
   "cell_type": "code",
   "execution_count": 2,
   "metadata": {},
   "outputs": [
    {
     "name": "stdout",
     "output_type": "stream",
     "text": [
      "pygame 2.6.1 (SDL 2.28.4, Python 3.11.9)\n",
      "Hello from the pygame community. https://www.pygame.org/contribute.html\n"
     ]
    }
   ],
   "source": [
    "import dependencias"
   ]
  },
  {
   "cell_type": "code",
   "execution_count": 2,
   "metadata": {},
   "outputs": [
    {
     "name": "stdout",
     "output_type": "stream",
     "text": [
      "El ganador es: Snake12352\n"
     ]
    }
   ],
   "source": [
    "import dependencias\n",
    "\n",
    "agent = dependencias.Agentes_multiplayer.ChaserAgentMp(32232)\n",
    "agent2 = dependencias.Agentes_multiplayer.ChaserAgentMp(12123)\n",
    "agent3 = dependencias.Agentes_multiplayer.ChaserAgentMp(21232)\n",
    "agent4 = dependencias.Agentes_multiplayer.ChaserAgentMp(32312)\n",
    "agent5 = dependencias.Agentes_multiplayer.ChaserAgentMp(44212)\n",
    "agent6 = dependencias.Agentes_multiplayer.ChaserAgentMp(12352)\n",
    "agent7 = dependencias.Agentes_multiplayer.ChaserAgentMp(61232)\n",
    "agent8 = dependencias.Agentes_multiplayer.ChaserAgentMp(12347)\n",
    "\n",
    "game = dependencias.Snake_game_MultiPlayer((50, 50), 15, [agent,agent2,agent3,agent4,agent5,agent6])\n",
    "\n",
    "game.play_with_pygame()"
   ]
  },
  {
   "cell_type": "code",
   "execution_count": 16,
   "metadata": {},
   "outputs": [
    {
     "data": {
      "text/plain": [
       "['hola', 'adios', 'adios']"
      ]
     },
     "execution_count": 16,
     "metadata": {},
     "output_type": "execute_result"
    }
   ],
   "source": [
    "import copy\n",
    "\n",
    "cabezas = [\"hola\", \"adios\", \"mañana\", \"adios\", \"pasado\"]\n",
    "\n",
    "cabezas = [cabezas[n] for n in range(len(cabezas)) if n != 2 and n != 4]\n",
    "cabezas"
   ]
  }
 ],
 "metadata": {
  "kernelspec": {
   "display_name": "Python 3",
   "language": "python",
   "name": "python3"
  },
  "language_info": {
   "codemirror_mode": {
    "name": "ipython",
    "version": 3
   },
   "file_extension": ".py",
   "mimetype": "text/x-python",
   "name": "python",
   "nbconvert_exporter": "python",
   "pygments_lexer": "ipython3",
   "version": "3.11.9"
  }
 },
 "nbformat": 4,
 "nbformat_minor": 2
}
