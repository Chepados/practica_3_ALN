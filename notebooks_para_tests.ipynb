{
 "cells": [
  {
   "metadata": {
    "ExecuteTime": {
     "end_time": "2025-01-14T00:06:27.426971Z",
     "start_time": "2025-01-14T00:06:27.297935Z"
    }
   },
   "cell_type": "code",
   "source": "import dependencias",
   "id": "737a5e357ff08ad4",
   "outputs": [
    {
     "name": "stdout",
     "output_type": "stream",
     "text": [
      "pygame 2.6.1 (SDL 2.28.4, Python 3.12.1)\n",
      "Hello from the pygame community. https://www.pygame.org/contribute.html\n"
     ]
    }
   ],
   "execution_count": 3
  },
  {
   "metadata": {
    "ExecuteTime": {
     "end_time": "2025-01-13T22:16:59.553566Z",
     "start_time": "2025-01-13T22:16:59.471062Z"
    }
   },
   "cell_type": "code",
   "source": [
    "agent = dependencias.Agentes.ChaserAgent()\n",
    "game = dependencias.Snake_game((15, 15), 5, agent)\n",
    "game.evaluar()"
   ],
   "id": "1a8bc2d3d4241f3a",
   "outputs": [
    {
     "name": "stderr",
     "output_type": "stream",
     "text": [
      "100%|██████████| 100/100 [00:00<00:00, 1305.73it/s]\n"
     ]
    },
    {
     "data": {
      "text/plain": [
       "{'puntuacion_media': np.float64(8.07),\n",
       " 'puntuacion_maxima': np.int64(25),\n",
       " 'puntuacion_minima': np.int64(3),\n",
       " 'movimientos_medios': np.float64(37.36),\n",
       " 'movimientos_maximos': np.int64(122),\n",
       " 'movimientos_minimos': np.int64(9),\n",
       " 'movimientos por puntuacion': np.float64(4.629491945477075)}"
      ]
     },
     "execution_count": 14,
     "metadata": {},
     "output_type": "execute_result"
    }
   ],
   "execution_count": 14
  },
  {
   "metadata": {
    "ExecuteTime": {
     "end_time": "2025-01-13T22:15:41.443829Z",
     "start_time": "2025-01-13T22:15:29.878857Z"
    }
   },
   "cell_type": "code",
   "source": [
    "agent = dependencias.Agentes.Avoid_inmediate_death()\n",
    "game = dependencias.Snake_game((15, 15), 5, agent)\n",
    "game.play_with_pygame()\n"
   ],
   "id": "5f73f3c0a821b60d",
   "outputs": [],
   "execution_count": 7
  },
  {
   "cell_type": "code",
   "id": "0eee44cc",
   "metadata": {
    "ExecuteTime": {
     "end_time": "2025-01-13T22:16:15.816085Z",
     "start_time": "2025-01-13T22:16:15.603537Z"
    }
   },
   "source": [
    "agent = dependencias.Agentes.Avoid_inmediate_death()\n",
    "game = dependencias.Snake_game((15, 15), 5, agent)\n",
    "game.evaluar()\n"
   ],
   "outputs": [
    {
     "name": "stderr",
     "output_type": "stream",
     "text": [
      "100%|██████████| 100/100 [00:00<00:00, 486.24it/s]\n"
     ]
    },
    {
     "data": {
      "text/plain": [
       "{'puntuacion_media': np.float64(8.45),\n",
       " 'puntuacion_maxima': np.int64(16),\n",
       " 'puntuacion_minima': np.int64(4),\n",
       " 'movimientos_medios': np.float64(510.44),\n",
       " 'movimientos_maximos': np.int64(1154),\n",
       " 'movimientos_minimos': np.int64(163),\n",
       " 'movimientos por puntuacion': np.float64(60.40710059171598)}"
      ]
     },
     "execution_count": 12,
     "metadata": {},
     "output_type": "execute_result"
    }
   ],
   "execution_count": 12
  },
  {
   "cell_type": "code",
   "id": "c4c8e6be",
   "metadata": {
    "ExecuteTime": {
     "end_time": "2025-01-13T22:16:24.201619Z",
     "start_time": "2025-01-13T22:16:23.722024Z"
    }
   },
   "source": [
    "agent_1 = dependencias.Agentes.ChaserAgent()\n",
    "agente_2 = dependencias.Agentes.Avoid_inmediate_death()\n",
    "\n",
    "agente_combiando = dependencias.Agentes.Combined_agent(agentes = (agent_1, agente_2), weights= (0.5, 1))\n",
    "\n",
    "game = dependencias.Snake_game((15, 15), 5, agente_combiando)\n",
    "game.evaluar()"
   ],
   "outputs": [
    {
     "name": "stderr",
     "output_type": "stream",
     "text": [
      "100%|██████████| 100/100 [00:00<00:00, 211.89it/s]\n"
     ]
    },
    {
     "data": {
      "text/plain": [
       "{'puntuacion_media': np.float64(32.38),\n",
       " 'puntuacion_maxima': np.int64(63),\n",
       " 'puntuacion_minima': np.int64(8),\n",
       " 'movimientos_medios': np.float64(177.65),\n",
       " 'movimientos_maximos': np.int64(393),\n",
       " 'movimientos_minimos': np.int64(37),\n",
       " 'movimientos por puntuacion': np.float64(5.486411365040148)}"
      ]
     },
     "execution_count": 13,
     "metadata": {},
     "output_type": "execute_result"
    }
   ],
   "execution_count": 13
  },
  {
   "metadata": {
    "ExecuteTime": {
     "end_time": "2025-01-14T00:07:33.244901Z",
     "start_time": "2025-01-14T00:07:21.622975Z"
    }
   },
   "cell_type": "code",
   "source": [
    "agent = dependencias.Agentes.Aantiloop()\n",
    "game = dependencias.Snake_game((15, 15), 30, agent)\n",
    "game.play_with_pygame()\n"
   ],
   "id": "a04564d31c6249bc",
   "outputs": [],
   "execution_count": 6
  },
  {
   "metadata": {},
   "cell_type": "code",
   "outputs": [],
   "execution_count": null,
   "source": "combinado = dependencias.Agentes.Combined_agent(agentes = (agente_avoider, agen), weights= (0.5, 1))",
   "id": "7b92f6b6be9c5983"
  }
 ],
 "metadata": {
  "kernelspec": {
   "display_name": "Python 3",
   "language": "python",
   "name": "python3"
  },
  "language_info": {
   "codemirror_mode": {
    "name": "ipython",
    "version": 3
   },
   "file_extension": ".py",
   "mimetype": "text/x-python",
   "name": "python",
   "nbconvert_exporter": "python",
   "pygments_lexer": "ipython3",
   "version": "3.12.5"
  }
 },
 "nbformat": 4,
 "nbformat_minor": 5
}
