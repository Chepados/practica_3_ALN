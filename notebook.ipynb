{
 "cells": [
  {
   "metadata": {
    "ExecuteTime": {
     "end_time": "2025-01-13T21:40:26.481346Z",
     "start_time": "2025-01-13T21:40:26.370229Z"
    }
   },
   "cell_type": "code",
   "source": "import dependencias",
   "id": "737a5e357ff08ad4",
   "outputs": [
    {
     "name": "stdout",
     "output_type": "stream",
     "text": [
      "pygame 2.6.1 (SDL 2.28.4, Python 3.12.1)\n",
      "Hello from the pygame community. https://www.pygame.org/contribute.html\n"
     ]
    }
   ],
   "execution_count": 2
  },
  {
   "metadata": {
    "ExecuteTime": {
     "end_time": "2025-01-13T21:42:43.031329Z",
     "start_time": "2025-01-13T21:42:36.517755Z"
    }
   },
   "cell_type": "code",
   "source": [
    "agent = dependencias.Agentes.ChaserAgent()\n",
    "game = dependencias.Snake_game((15, 15), 5, agent)\n",
    "game.play_with_pygame()"
   ],
   "id": "1a8bc2d3d4241f3a",
   "outputs": [
    {
     "name": "stdout",
     "output_type": "stream",
     "text": [
      "Game Over\n",
      "Score:  14\n"
     ]
    }
   ],
   "execution_count": 7
  },
  {
   "cell_type": "code",
   "id": "0eee44cc",
   "metadata": {
    "ExecuteTime": {
     "end_time": "2025-01-13T21:42:59.429771Z",
     "start_time": "2025-01-13T21:42:47.613842Z"
    }
   },
   "source": [
    "agent = dependencias.Agentes.Avoid_inmediate_death()\n",
    "game = dependencias.Snake_game((15, 15), 5, agent)\n",
    "game.play_with_pygame()"
   ],
   "outputs": [],
   "execution_count": 8
  },
  {
   "cell_type": "code",
   "id": "c4c8e6be",
   "metadata": {
    "ExecuteTime": {
     "end_time": "2025-01-13T21:47:04.829908Z",
     "start_time": "2025-01-13T21:46:52.992328Z"
    }
   },
   "source": [
    "agent_1 = dependencias.Agentes.ChaserAgent()\n",
    "agente_2 = dependencias.Agentes.Avoid_inmediate_death()\n",
    "\n",
    "agente_combiando = dependencias.Agentes.Combined_agent(agentes = (agent_1, agente_2), weights= (0.5, 1))\n",
    "\n",
    "game = dependencias.Snake_game((15, 15), 5, agente_combiando)\n",
    "game.play_with_pygame()"
   ],
   "outputs": [
    {
     "name": "stdout",
     "output_type": "stream",
     "text": [
      "Game Over\n",
      "Score:  23\n"
     ]
    }
   ],
   "execution_count": 10
  }
 ],
 "metadata": {
  "kernelspec": {
   "display_name": "Python 3",
   "language": "python",
   "name": "python3"
  },
  "language_info": {
   "codemirror_mode": {
    "name": "ipython",
    "version": 3
   },
   "file_extension": ".py",
   "mimetype": "text/x-python",
   "name": "python",
   "nbconvert_exporter": "python",
   "pygments_lexer": "ipython3",
   "version": "3.12.5"
  }
 },
 "nbformat": 4,
 "nbformat_minor": 5
}
