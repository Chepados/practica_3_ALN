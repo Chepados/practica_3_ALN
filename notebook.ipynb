{
 "cells": [
  {
   "metadata": {
    "ExecuteTime": {
     "end_time": "2025-01-13T15:02:44.123919Z",
     "start_time": "2025-01-13T15:02:25.264065Z"
    }
   },
   "cell_type": "code",
   "source": [
    "from dependencias import *\n",
    "\n",
    "agent = ChasserAgent()\n",
    "game = Snake_game((10, 10), 5, agent)\n",
    "game.play_with_pygame()"
   ],
   "id": "1a8bc2d3d4241f3a",
   "outputs": [
    {
     "name": "stdout",
     "output_type": "stream",
     "text": [
      "Game Over\n",
      "Score:  50\n"
     ]
    }
   ],
   "execution_count": 23
  }
 ],
 "metadata": {
  "kernelspec": {
   "display_name": "Python 3",
   "language": "python",
   "name": "python3"
  },
  "language_info": {
   "codemirror_mode": {
    "name": "ipython",
    "version": 2
   },
   "file_extension": ".py",
   "mimetype": "text/x-python",
   "name": "python",
   "nbconvert_exporter": "python",
   "pygments_lexer": "ipython2",
   "version": "2.7.6"
  }
 },
 "nbformat": 4,
 "nbformat_minor": 5
}
