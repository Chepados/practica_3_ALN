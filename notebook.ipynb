{
 "cells": [
  {
   "cell_type": "code",
   "execution_count": 1,
   "id": "1a8bc2d3d4241f3a",
   "metadata": {
    "ExecuteTime": {
     "end_time": "2025-01-13T15:02:44.123919Z",
     "start_time": "2025-01-13T15:02:25.264065Z"
    }
   },
   "outputs": [
    {
     "name": "stdout",
     "output_type": "stream",
     "text": [
      "pygame 2.6.1 (SDL 2.28.4, Python 3.12.5)\n",
      "Hello from the pygame community. https://www.pygame.org/contribute.html\n",
      "Game Over\n",
      "Score:  37\n"
     ]
    }
   ],
   "source": [
    "import dependencias\n",
    "\n",
    "agent = dependencias.Agentes.ChaserAgent()\n",
    "game = dependencias.Snake_game((10, 10), 5, agent)\n",
    "game.play_with_pygame()"
   ]
  },
  {
   "cell_type": "code",
   "execution_count": null,
   "id": "0eee44cc",
   "metadata": {},
   "outputs": [],
   "source": []
  },
  {
   "cell_type": "code",
   "execution_count": null,
   "id": "c4c8e6be",
   "metadata": {},
   "outputs": [],
   "source": []
  }
 ],
 "metadata": {
  "kernelspec": {
   "display_name": "Python 3",
   "language": "python",
   "name": "python3"
  },
  "language_info": {
   "codemirror_mode": {
    "name": "ipython",
    "version": 3
   },
   "file_extension": ".py",
   "mimetype": "text/x-python",
   "name": "python",
   "nbconvert_exporter": "python",
   "pygments_lexer": "ipython3",
   "version": "3.12.5"
  }
 },
 "nbformat": 4,
 "nbformat_minor": 5
}
